{
 "cells": [
  {
   "cell_type": "markdown",
   "metadata": {},
   "source": [
    "## Exercise 1\n",
    "\n",
    "Rewrite the following program that we wrote in LCA 5 for extracting the **host** domain from a string in the following format:\n",
    "<br>From stephen.marquard@**uct.ac.za** Sat Jan  5 09:14:16 2008.\n",
    "<br>This time use the **split()** method of python strings for this purpose.\n"
   ]
  },
  {
   "cell_type": "code",
   "execution_count": 1,
   "metadata": {},
   "outputs": [
    {
     "name": "stdout",
     "output_type": "stream",
     "text": [
      "First line of email: brycemrohloff@gmail.com\n"
     ]
    },
    {
     "ename": "IndexError",
     "evalue": "list index out of range",
     "output_type": "error",
     "traceback": [
      "\u001b[0;31m---------------------------------------------------------------------------\u001b[0m",
      "\u001b[0;31mIndexError\u001b[0m                                Traceback (most recent call last)",
      "Input \u001b[0;32mIn [1]\u001b[0m, in \u001b[0;36m<cell line: 3>\u001b[0;34m()\u001b[0m\n\u001b[1;32m      1\u001b[0m line\u001b[38;5;241m=\u001b[39m \u001b[38;5;28minput\u001b[39m(\u001b[38;5;124m'\u001b[39m\u001b[38;5;124mFirst line of email: \u001b[39m\u001b[38;5;124m'\u001b[39m)\n\u001b[0;32m----> 3\u001b[0m host \u001b[38;5;241m=\u001b[39m (\u001b[43mline\u001b[49m\u001b[38;5;241;43m.\u001b[39;49m\u001b[43msplit\u001b[49m\u001b[43m(\u001b[49m\u001b[43m)\u001b[49m\u001b[43m[\u001b[49m\u001b[38;5;241;43m1\u001b[39;49m\u001b[43m]\u001b[49m)\u001b[38;5;241m.\u001b[39msplit(\u001b[38;5;124m'\u001b[39m\u001b[38;5;124m@\u001b[39m\u001b[38;5;124m'\u001b[39m)[\u001b[38;5;241m1\u001b[39m]\n\u001b[1;32m      5\u001b[0m \u001b[38;5;28mprint\u001b[39m(\u001b[38;5;124m'\u001b[39m\u001b[38;5;124mhost:\u001b[39m\u001b[38;5;124m'\u001b[39m, host)\n",
      "\u001b[0;31mIndexError\u001b[0m: list index out of range"
     ]
    }
   ],
   "source": [
    "line= input('First line of email: ')\n",
    "\n",
    "host = (line.split()[1]).split('@')[1]\n",
    "\n",
    "print('host:', host)"
   ]
  },
  {
   "cell_type": "markdown",
   "metadata": {},
   "source": [
    "## Exercise 2\n",
    "\n",
    "Download a copy of the file www.py4e.com/code3/romeo.txt. Write a program to open the file romeo.txt, read it line by line, and create a glossary of unique words in that. For this purpose, for each line split the line into a list of words using the split function. For each word, check to see if the word is already in a list. If the word is not in the list, add it to the list. When the program completes, sort and print the resulting words in alphabetical order.\n"
   ]
  },
  {
   "cell_type": "code",
   "execution_count": null,
   "metadata": {},
   "outputs": [],
   "source": [
    "# step 1: creating a file for txt \n",
    "fhand = open('romeo.txt')\n",
    "\n",
    "# step 2: create an empty list as the placeholder of the words\n",
    "all_words = list()\n",
    "\n",
    "# step 3: write a loop that goes through the lines of the txt file\n",
    "for line in fhand:\n",
    "    words = line.split()\n",
    "    for word in words:\n",
    "        if word in all_words:\n",
    "            continue \n",
    "        else:\n",
    "            allwords.append(word.lower())\n",
    "allwords.sort()\n",
    "\n",
    "print(allwords)"
   ]
  },
  {
   "cell_type": "markdown",
   "metadata": {},
   "source": [
    "## Assignment 1\n",
    "\n",
    "Write a program that prompts the user to enter a text file name (either mbox.txt or mbox-short.txt). Then open the requested file and reads through its lines. The lines starting with 'Author:' (not author:) indicate the email address of the author of each message (e.g., Author: zqian@umich.edu)\n",
    "<br>The goal is to create an address book (python list) including the email addresses of all message senders. So create an empty python list. Then for each author line in the text file, split that into a list of words (the email address would be the second word in the list), check if the email address is already in the address book, if it's not add it to the list.\n",
    "<br>At the end, sort all unique email addresses alphabetically and print the address book list.\n",
    "\n",
    "<br><br>Example:\n",
    "<br>**Enter a file name: mbox-short.txt**\n",
    "<br>['antranig@caret.cam.ac.uk', 'cwen@iupui.edu', 'david.horwitz@uct.ac.za', 'gopal.ramasammycook@gmail.com', 'gsilver@umich.edu', 'louis@media.berkeley.edu', 'ray@media.berkeley.edu', 'rjlowe@iupui.edu', 'stephen.marquard@uct.ac.za', 'wagnermr@iupui.edu', 'zqian@umich.edu']"
   ]
  },
  {
   "cell_type": "code",
   "execution_count": 29,
   "metadata": {
    "scrolled": true
   },
   "outputs": [
    {
     "name": "stdout",
     "output_type": "stream",
     "text": [
      "Enter a text file namembox-short.txt\n"
     ]
    },
    {
     "ename": "FileNotFoundError",
     "evalue": "[Errno 2] No such file or directory: 'mbox-short.txt'",
     "output_type": "error",
     "traceback": [
      "\u001b[0;31m---------------------------------------------------------------------------\u001b[0m",
      "\u001b[0;31mFileNotFoundError\u001b[0m                         Traceback (most recent call last)",
      "Input \u001b[0;32mIn [29]\u001b[0m, in \u001b[0;36m<cell line: 2>\u001b[0;34m()\u001b[0m\n\u001b[1;32m      1\u001b[0m \u001b[38;5;66;03m# step 1: getting user input and opening the requested file\u001b[39;00m\n\u001b[0;32m----> 2\u001b[0m file \u001b[38;5;241m=\u001b[39m \u001b[38;5;28;43mopen\u001b[39;49m\u001b[43m(\u001b[49m\u001b[38;5;28;43minput\u001b[39;49m\u001b[43m(\u001b[49m\u001b[38;5;124;43m\"\u001b[39;49m\u001b[38;5;124;43mEnter a text file name\u001b[39;49m\u001b[38;5;124;43m\"\u001b[39;49m\u001b[43m)\u001b[49m\u001b[43m)\u001b[49m\n\u001b[1;32m      4\u001b[0m \u001b[38;5;66;03m# step 2: making a new list for the emails to go into\u001b[39;00m\n\u001b[1;32m      5\u001b[0m email_list \u001b[38;5;241m=\u001b[39m \u001b[38;5;28mlist\u001b[39m()\n",
      "\u001b[0;31mFileNotFoundError\u001b[0m: [Errno 2] No such file or directory: 'mbox-short.txt'"
     ]
    }
   ],
   "source": [
    "# step 1: getting user input and opening the requested file\n",
    "file = open(input(\"Enter a text file name\"))\n",
    "\n",
    "# step 2: making a new list for the emails to go into\n",
    "email_list = list()\n",
    "all_emails = []\n",
    "\n",
    "# step 3: loops \n",
    "for line in file:\n",
    "    if line.startswith('Author'):\n",
    "        emails = line.split()[1]\n",
    "        all_emails.append(email)\n",
    "        for email in all_emails:\n",
    "            if email not in email_list:\n",
    "                email_list.append(email)\n",
    "                \n",
    "email_list.sort()\n",
    "print(email_list)"
   ]
  },
  {
   "cell_type": "markdown",
   "metadata": {},
   "source": [
    "## Assignment 2\n",
    "\n",
    "We wrote the following program earlier in chapter 5 (Loops). It keeps accepting numeric inputs from user until he/she enters 'done'. Then calculates the average of all entered values.(try it)\n",
    "<br> Rewrite this program using the concept of lists. That is, create a list from scratch and keep adding(appending) user inputs to that as its elements until the user types 'done'. Then use appropriate python functions to calculate the average of elements in the resulted list."
   ]
  },
  {
   "cell_type": "code",
   "execution_count": 21,
   "metadata": {
    "scrolled": true
   },
   "outputs": [
    {
     "name": "stdout",
     "output_type": "stream",
     "text": [
      "Enter a number: 4\n",
      "Enter a number: 2\n",
      "Enter a number: 6\n",
      "Enter a number: done\n",
      "Average: 4.0\n"
     ]
    }
   ],
   "source": [
    "numbers = list()\n",
    "while True :\n",
    "    inp = input('Enter a number: ')\n",
    "    if inp == 'done' : \n",
    "        break\n",
    "    else:\n",
    "        numbers.append(float(inp))\n",
    "\n",
    "\n",
    "average = sum(numbers) / len(numbers)\n",
    "\n",
    "print('Average:', average)\n"
   ]
  }
 ],
 "metadata": {
  "kernelspec": {
   "display_name": "Python 3 (ipykernel)",
   "language": "python",
   "name": "python3"
  },
  "language_info": {
   "codemirror_mode": {
    "name": "ipython",
    "version": 3
   },
   "file_extension": ".py",
   "mimetype": "text/x-python",
   "name": "python",
   "nbconvert_exporter": "python",
   "pygments_lexer": "ipython3",
   "version": "3.9.12"
  }
 },
 "nbformat": 4,
 "nbformat_minor": 2
}
