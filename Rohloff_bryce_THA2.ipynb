{
 "cells": [
  {
   "attachments": {
    "GPA.png": {
     "image/png": "[encoded data removed]"
    }
   },
   "cell_type": "markdown",
   "metadata": {},
   "source": [
    "## Problem 1\n",
    "\n",
    "Write a program that repeatedly prompts a student to enter grade points (on a scale of 0-4) and number of credits of the courses he/she has taken in the format **grade;credit** (e.g., 3.68;3) until the student enters the word **done**; then calculates the GPA of the student using the following formula:\n",
    "![GPA.png](attachment:GPA.png)\n",
    "\n",
    "**Note:** for each course, the grade and number of credits must be received through a single input, then separated using string operations. See the Example below. \n",
    "\n",
    "Example:\n",
    "<br>Enter your a grade point and corresponding number of credits: 3.8;2\n",
    "<br>Enter your a grade point and corresponding number of credits: 3.91;3\n",
    "<br>Enter your a grade point and corresponding number of credits: 2.95;3\n",
    "<br>Enter your a grade point and corresponding number of credits: 3.9;3\n",
    "<br>Enter your a grade point and corresponding number of credits: done\n",
    "<br>Your GPA is: 3.625\n"
   ]
  },
  {
   "cell_type": "code",
   "execution_count": 10,
   "metadata": {},
   "outputs": [
    {
     "name": "stdout",
     "output_type": "stream",
     "text": [
      "Enter your a grade point and corresponding number of credits:3.8;2 \n",
      "Enter your a grade point and corresponding number of credits:3.91;3\n",
      "Enter your a grade point and corresponding number of credits:2.95;3\n",
      "Enter your a grade point and corresponding number of credits:3.9;3\n",
      "Enter your a grade point and corresponding number of credits:done\n",
      "You GPA is: 3.625\n"
     ]
    }
   ],
   "source": [
    "# step 0: settings variables\n",
    "credit_sum = 0\n",
    "grade = 0 \n",
    "numerator = 0\n",
    "\n",
    "while True:\n",
    "    \n",
    "# step 1: getting user input in the loop\n",
    "    inp = input('Enter your a grade point and corresponding number of credits:')\n",
    "    \n",
    "    if inp == 'done':\n",
    "        break\n",
    "    else:\n",
    "    \n",
    "# step 2: splitting the grade and the credits from the input\n",
    "        grade = inp[:inp.find(';')]\n",
    "        credit = inp[inp.find(';') + 1]\n",
    "        \n",
    "# step 3: adding the numbers to the list\n",
    "        credit_sum += int(credit)\n",
    "        numerator += float(grade) * int(credit)\n",
    "\n",
    "# step 4: output \n",
    "print('You GPA is:', round(numerator/ credit_sum, 3))"
   ]
  },
  {
   "cell_type": "markdown",
   "metadata": {},
   "source": [
    "## Problem 2.1\n",
    "\n",
    "Download the text file Tweets.txt from the URL provided below and save it in your python directory folder:\n",
    "https://bit.ly/360oAwY\n",
    "<br><br>The file includes 4993 tweets including the keyword 'election'. Each tweet is represented in a separate line.\n",
    "<br>Write a program to open the file and read through its lines, then only if a tweet includes a hashtag (a term beginning by the # character) extracts the hashtag term and prints it out. For simplicity, let's assume that each tweet can include only 1 hashtag (if any), so in case of multiple hashtags in a tweet we are only interested in extracting the first one from left.\n",
    "\n",
    "<br>**Note**: since some tweets may include irregular characters, use the argument **encoding=\"utf-8\"** inside the **open** function, separated by comma from the text file name and opening mode. Otherwise you may get error."
   ]
  },
  {
   "cell_type": "code",
   "execution_count": 41,
   "metadata": {},
   "outputs": [
    {
     "ename": "FileNotFoundError",
     "evalue": "[Errno 2] No such file or directory: 'Tweets.txt'",
     "output_type": "error",
     "traceback": [
      "\u001b[0;31m---------------------------------------------------------------------------\u001b[0m",
      "\u001b[0;31mFileNotFoundError\u001b[0m                         Traceback (most recent call last)",
      "Input \u001b[0;32mIn [41]\u001b[0m, in \u001b[0;36m<cell line: 2>\u001b[0;34m()\u001b[0m\n\u001b[1;32m      1\u001b[0m \u001b[38;5;66;03m# step 0: opening the file \u001b[39;00m\n\u001b[0;32m----> 2\u001b[0m twitter \u001b[38;5;241m=\u001b[39m \u001b[38;5;28;43mopen\u001b[39;49m\u001b[43m(\u001b[49m\u001b[38;5;124;43m'\u001b[39;49m\u001b[38;5;124;43mTweets.txt\u001b[39;49m\u001b[38;5;124;43m'\u001b[39;49m\u001b[43m,\u001b[49m\u001b[43m \u001b[49m\u001b[38;5;124;43m'\u001b[39;49m\u001b[38;5;124;43mr\u001b[39;49m\u001b[38;5;124;43m'\u001b[39;49m\u001b[43m,\u001b[49m\u001b[43m \u001b[49m\u001b[43mencoding\u001b[49m\u001b[43m \u001b[49m\u001b[38;5;241;43m=\u001b[39;49m\u001b[43m \u001b[49m\u001b[38;5;124;43m\"\u001b[39;49m\u001b[38;5;124;43mutf-8\u001b[39;49m\u001b[38;5;124;43m\"\u001b[39;49m\u001b[43m)\u001b[49m\n\u001b[1;32m      4\u001b[0m \u001b[38;5;66;03m#step 0.5: reading through the file \u001b[39;00m\n\u001b[1;32m      5\u001b[0m \u001b[38;5;28;01mfor\u001b[39;00m line \u001b[38;5;129;01min\u001b[39;00m twitter:\n",
      "\u001b[0;31mFileNotFoundError\u001b[0m: [Errno 2] No such file or directory: 'Tweets.txt'"
     ]
    }
   ],
   "source": [
    "# step 0: opening the file \n",
    "twitter = open('Tweets.txt', 'r', encoding = \"utf-8\")\n",
    "\n",
    "#step 0.5: reading through the file \n",
    "for line in twitter:\n",
    "    if '#' in line:\n",
    "        \n",
    "# step 1: finding & seperating the hashtag\n",
    "        tag_beg = line.find('#')\n",
    "        tag_end = line.find(' ', tag_beg)\n",
    "        tag = line[tag_beg : tag_end]\n",
    "\n",
    "# step 2: adding the tag into the output 'list'\n",
    "        list = tag + '\\n'\n",
    "        print(list)"
   ]
  },
  {
   "cell_type": "markdown",
   "metadata": {},
   "source": [
    "## Problem 2.2\n",
    "\n",
    "Modify your code in problem 1: this time instead of printing out the hashtag words, write and save them to an output text file. **Use your last name(along with the .txt extension) as the name for the output txt file**.\n",
    "<br>**Note**: Make sure that each hashtag would appear in a separate line in the output file."
   ]
  },
  {
   "cell_type": "code",
   "execution_count": 15,
   "metadata": {},
   "outputs": [
    {
     "ename": "FileNotFoundError",
     "evalue": "[Errno 2] No such file or directory: 'Tweets.txt'",
     "output_type": "error",
     "traceback": [
      "\u001b[0;31m---------------------------------------------------------------------------\u001b[0m",
      "\u001b[0;31mFileNotFoundError\u001b[0m                         Traceback (most recent call last)",
      "Input \u001b[0;32mIn [15]\u001b[0m, in \u001b[0;36m<cell line: 2>\u001b[0;34m()\u001b[0m\n\u001b[1;32m      1\u001b[0m \u001b[38;5;66;03m# step 0: opening the file \u001b[39;00m\n\u001b[0;32m----> 2\u001b[0m twitter \u001b[38;5;241m=\u001b[39m \u001b[38;5;28;43mopen\u001b[39;49m\u001b[43m(\u001b[49m\u001b[38;5;124;43m'\u001b[39;49m\u001b[38;5;124;43mTweets.txt\u001b[39;49m\u001b[38;5;124;43m'\u001b[39;49m\u001b[43m)\u001b[49m\n\u001b[1;32m      3\u001b[0m outhandle \u001b[38;5;241m=\u001b[39m \u001b[38;5;28mopen\u001b[39m(\u001b[38;5;124m'\u001b[39m\u001b[38;5;124mrohloff.txt\u001b[39m\u001b[38;5;124m'\u001b[39m, \u001b[38;5;124m'\u001b[39m\u001b[38;5;124mw\u001b[39m\u001b[38;5;124m'\u001b[39m)\n\u001b[1;32m      5\u001b[0m \u001b[38;5;66;03m#step 0.5: reading through the file \u001b[39;00m\n",
      "\u001b[0;31mFileNotFoundError\u001b[0m: [Errno 2] No such file or directory: 'Tweets.txt'"
     ]
    }
   ],
   "source": [
    "# step 0: opening the file \n",
    "twitter = open('Tweets.txt', 'r', encoding = \"utf-8\")\n",
    "outhandle = open('rohloff.txt', 'w')\n",
    "\n",
    "#step 0.5: reading through the file with a for loop\n",
    "for line in twitter:\n",
    "    if '#' in line:\n",
    "\n",
    "# step 1: finding & seperating the hashtag\n",
    "        tag_beg = line.find('#')\n",
    "        tag_end = line.find(' ', tag_beg)\n",
    "        tag = line[tag_beg : tag_end]\n",
    "\n",
    "# step 2: writing the tag into the output file\n",
    "        outhandle.write(tag +'/n')\n",
    "\n",
    "outhandle.close()"
   ]
  },
  {
   "cell_type": "markdown",
   "metadata": {},
   "source": [
    "## Problem 3\n",
    "\n",
    "Write a python loop that goes through the following sequence of words, then for each word if it is longer than 4 characters, creates a new word out of that by concatenating the first two and the last two characters of it. Also, if the word length is 4 characters or less, print it out as is. Make sure that all output words are completely in lowercase letters.\n",
    "<br>words= ['Mobile','Good Morning','LAMP', 'Smart Things!', 'monty python', 'look']\n",
    "\n",
    "<br> the expected output:\n",
    "<br>mole\n",
    "<br>gong\n",
    "<br>lamp\n",
    "<br>sms!\n",
    "<br>moon\n",
    "<br>look"
   ]
  },
  {
   "cell_type": "code",
   "execution_count": 40,
   "metadata": {
    "scrolled": true
   },
   "outputs": [
    {
     "name": "stdout",
     "output_type": "stream",
     "text": [
      "mole\n",
      "gong\n",
      "lamp\n",
      "sms!\n",
      "moon\n",
      "look\n"
     ]
    }
   ],
   "source": [
    "# step 0: identifiying the words in the provided list\n",
    "words= ['Mobile','Good Morning','LAMP', 'Smart Things!', 'monty python', 'look']\n",
    "\n",
    "# step 1: Using a for loop to scan through the list\n",
    "for word in words:\n",
    "    \n",
    "# if the word is longer than for words...\n",
    "    if len(word) > 4:\n",
    "\n",
    "# make the word into a new one that is composed of the first and last two letters of that word\n",
    "        word_start = word[:2]\n",
    "        word_end = word[-2:]\n",
    "        word = word_start + word_end\n",
    "        \n",
    "# print the word in lower case\n",
    "        print(word.lower())\n",
    "    \n",
    "# else, print the word in lower case\n",
    "    else: \n",
    "        print(word.lower())\n",
    "\n",
    "    "
   ]
  }
 ],
 "metadata": {
  "kernelspec": {
   "display_name": "Python 3 (ipykernel)",
   "language": "python",
   "name": "python3"
  },
  "language_info": {
   "codemirror_mode": {
    "name": "ipython",
    "version": 3
   },
   "file_extension": ".py",
   "mimetype": "text/x-python",
   "name": "python",
   "nbconvert_exporter": "python",
   "pygments_lexer": "ipython3",
   "version": "3.9.12"
  }
 },
 "nbformat": 4,
 "nbformat_minor": 4
}
