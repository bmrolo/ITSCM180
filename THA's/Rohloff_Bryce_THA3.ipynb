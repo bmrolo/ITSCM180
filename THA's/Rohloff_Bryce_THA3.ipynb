{
 "cells": [
  {
   "cell_type": "markdown",
   "metadata": {},
   "source": [
    "## Problem 1\n",
    "\n",
    "**Crowdsourcing** involves obtaining work, information, or opinions from a large group of people who submit their data via the Internet, social media, and smartphone apps. Wikipedia, the largest online encyclopedia, is known as the father of crowdsourcing which uses people’s knowledge all around the world to extend its database. In the following exercise we are going to use Python to mimic the crowdsourcing process used by Wikipedia:\n",
    "\n",
    "Create a glossary of python programming terms using a python dictionary. Think of 5-10 programming terms (keywords,functions,etc.) you’ve learned about in the previous chapters. Use these words as the *keys* in your glossary, and store their meanings/applications as *values*.\n",
    "\n",
    "Then prompt the user to enter a programming term and show him/her its meaning. If the entered key is not in your glossary your program should just print a message telling the user that \"your requested term was not found\".\n",
    "\n",
    "Example (your glossary does not have to contain the same terms as mine does):\n",
    "<br>Enter a programming term to see its meaning: if\n",
    "<br>if is a keyword being used for creating conditional statements\n",
    "<br>Enter a programming term to see its meaning: round\n",
    "<br>Sorry! that term does not exist in our glossary!"
   ]
  },
  {
   "cell_type": "code",
   "execution_count": 1,
   "metadata": {},
   "outputs": [
    {
     "name": "stdout",
     "output_type": "stream",
     "text": [
      "or is a boolean operator used if one of the operands may not be true\n"
     ]
    }
   ],
   "source": [
    "terms = {'.strip': 'a method that removes specified characters within a string',\n",
    "         'or': 'a boolean operator used if one of the operands may not be true',\n",
    "         'get()': 'a dictionary method that returns a value of a specified key',\n",
    "         'lower()': 'a string method that converts a string into lowercase',\n",
    "         'capitalize()': 'a string method that converts the first character of a string to upper case'\n",
    "        }\n",
    "\n",
    "inp = input('Enter a programming term to see its meaning:')\n",
    "\n",
    "if inp in terms:\n",
    "    print(inp,'is', terms[inp])\n",
    "else:\n",
    "    print('Sorry! That term does not exist in our glossary!')"
   ]
  },
  {
   "cell_type": "markdown",
   "metadata": {},
   "source": [
    "## Problem 2\n",
    "\n",
    "Modify your program in Problem 1, such that if the requested term does not exist in the glossary it asks the user if he/she is willing to contribute to the glossary by inserting the term's meaning. If he/she agreed, prompt him/her to enter the meaning and then add the (term,meaning) pair as a new item to the glossary.\n",
    "<br>**Note**: do not repeat the glossary definition lines of code here. That leads to erasing the newly added term by the user from glossary each time we run the program. Just use the glossary you created in problem 1 here for searching and addition.\n",
    "\n",
    "Example:\n",
    "<br>Enter a programming term to see its meaning: round\n",
    "<br>Sorry! that term does not exist in our glossary! Would you like to add its meaning (y/n)? y\n",
    "<br>Please enter the meaning: a function that rounds a numeric value to the nearest integer.\n",
    "<br>Thanks for your contribution! your input is recorded.\n",
    "\n",
    "Example 2:\n",
    "<br>Enter a programming term to see its meaning: round\n",
    "<br>Sorry! that term does not exist in our glossary! Would you like to add its meaning (y/n)? n\n",
    "<br>Okay! Have a good one!\n",
    "\n"
   ]
  },
  {
   "cell_type": "code",
   "execution_count": 2,
   "metadata": {},
   "outputs": [
    {
     "name": "stdout",
     "output_type": "stream",
     "text": [
      "or is a boolean operator used if one of the operands may not be true\n"
     ]
    }
   ],
   "source": [
    "inp = input('Enter a programming term to see its meaning:')\n",
    "\n",
    "#if the term inputted is in the dictionary, print it\n",
    "if inp in terms:\n",
    "    print(inp,'is', terms[inp])\n",
    "\n",
    "#otherwise, inform the user that the inputted term isn't in the dictionary, and ask if they'd like to put it in\n",
    "else:\n",
    "    y_n = input('Sorry! That term does not exist in our glossary! Would you like to add its meaning (y/n)?')\n",
    "\n",
    "# if the user types 'n', print    \n",
    "    if y_n == 'n':\n",
    "        print('Okay! Have a good one!')\n",
    "\n",
    "# if the user wants to add a term, ask for the meaning, and add it the the dictionary\n",
    "    else:\n",
    "        meaning = input('Please enter the meaning:')\n",
    "        terms[inp] = meaning\n",
    "        print('Thanks for your contribution! Your input is recorded')\n",
    "\n"
   ]
  },
  {
   "cell_type": "markdown",
   "metadata": {},
   "source": [
    "## Problem 3\n",
    "\n",
    "Write a program that reads through the 'quotes.txt' file (downloadable from the following link) one line at a time, and creates a list of public figures from whom there is a quote in the file. At the end, print the number of authors and the first 10 names from the list on the screen.\n",
    "<br>https://drive.google.com/file/d/1G5BUHN0Szes973kloHGUN8bb-DuiPgrr/view?usp=sharing\n",
    "\n",
    "**Hint**:The name of each public figure starts at the beginning of each line and is separated from the quote using a **tab character**. Therefore if you split each line using **'\\t'** as the delimiter, the first word of the resulted list is the full name of public figure.\n",
    "\n",
    "**Note**: Make sure that each name is repeated only once within the list.\n",
    "<br>**Note 2**:since some quotes may include irregular characters, use the argument **encoding=\"utf-8\"** inside the **open** function, separated by comma from the text file name. Otherwise you may get error.\n",
    "\n",
    "Output:\n",
    "<br>There are 3112 authors in the text file.\n",
    "<br>The first 10 authors are ['A. A. Milne', 'A. J. Jacobs', 'A. P. J. Abdul Kalam', 'A. Whitney Griswold', 'A.E. Housman', 'A.J. Ayer', 'A.J. Liebling', 'A.J.P. Taylor', 'A.P. Herbert', 'Aaliyah']"
   ]
  },
  {
   "cell_type": "code",
   "execution_count": 3,
   "metadata": {
    "scrolled": false
   },
   "outputs": [
    {
     "name": "stdout",
     "output_type": "stream",
     "text": [
      "There are 3112 authors in the text file.\n",
      "The first 10 authors are ['A. A. Milne', 'A. J. Jacobs', 'A. P. J. Abdul Kalam', 'A. Whitney Griswold', 'A.E. Housman', 'A.J. Ayer', 'A.J. Liebling', 'A.J.P. Taylor', 'A.P. Herbert', 'Aaliyah']\n"
     ]
    }
   ],
   "source": [
    "quotes = open('quotes.txt', 'r', encoding = \"utf-8\")\n",
    "authors = list()\n",
    "count = 0\n",
    "first10count = 0\n",
    "first10authors = list()\n",
    "\n",
    "#for loop to iterate the text\n",
    "for line in quotes:\n",
    "    \n",
    "#getting the author section from the text\n",
    "    author = line.split('\\t')[0]\n",
    "\n",
    "#if the author is already in the list, restart the loop\n",
    "    if author in authors:\n",
    "        continue\n",
    "\n",
    "# if the author isn't in the list, add it, and update the author count\n",
    "    else:\n",
    "        authors.append(author)\n",
    "        count += 1\n",
    "# if the count of the first ten authors is less than 10, update the counter and add the author to the first10author list\n",
    "        if first10count < 10:\n",
    "            first10authors.append(author)\n",
    "            first10count += 1\n",
    "\n",
    "print('There are', count, 'authors in the text file.')\n",
    "print('The first 10 authors are', first10authors)"
   ]
  }
 ],
 "metadata": {
  "kernelspec": {
   "display_name": "Python 3 (ipykernel)",
   "language": "python",
   "name": "python3"
  },
  "language_info": {
   "codemirror_mode": {
    "name": "ipython",
    "version": 3
   },
   "file_extension": ".py",
   "mimetype": "text/x-python",
   "name": "python",
   "nbconvert_exporter": "python",
   "pygments_lexer": "ipython3",
   "version": "3.11.6"
  }
 },
 "nbformat": 4,
 "nbformat_minor": 2
}
