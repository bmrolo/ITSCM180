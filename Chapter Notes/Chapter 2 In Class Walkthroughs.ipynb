{
 "cells": [
  {
   "cell_type": "code",
   "execution_count": 1,
   "id": "da3e8a22",
   "metadata": {},
   "outputs": [],
   "source": [
    "age = int(input('How old are you? '))\n",
    "\n",
    "if age>=21:\n",
    "    input('What is your favorite drink? ')\n",
    "else:\n",
    "    input('What is your favorite type of soda? ')"
   ]
  },
  {
   "cell_type": "code",
   "execution_count": 2,
   "id": "bd0b041b",
   "metadata": {},
   "outputs": [
    {
     "name": "stdout",
     "output_type": "stream",
     "text": [
      "Your size is L\n"
     ]
    }
   ],
   "source": [
    "# multi-way decisions \n",
    "\n",
    "x = int(input('Enter your numeric size: '))\n",
    "\n",
    "if x ==0:\n",
    "    print('your size is XS')\n",
    "elif x<=2:\n",
    "    print('Your size is S')\n",
    "elif x<=4:\n",
    "    print('Your size is M')\n",
    "else:\n",
    "    print('Your size is L')"
   ]
  },
  {
   "cell_type": "code",
   "execution_count": null,
   "id": "032512c0",
   "metadata": {},
   "outputs": [],
   "source": []
  }
 ],
 "metadata": {
  "kernelspec": {
   "display_name": "Python 3 (ipykernel)",
   "language": "python",
   "name": "python3"
  },
  "language_info": {
   "codemirror_mode": {
    "name": "ipython",
    "version": 3
   },
   "file_extension": ".py",
   "mimetype": "text/x-python",
   "name": "python",
   "nbconvert_exporter": "python",
   "pygments_lexer": "ipython3",
   "version": "3.10.13"
  }
 },
 "nbformat": 4,
 "nbformat_minor": 5
}
