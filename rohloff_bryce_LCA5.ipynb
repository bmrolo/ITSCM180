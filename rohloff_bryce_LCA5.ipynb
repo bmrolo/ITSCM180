{
 "cells": [
  {
   "cell_type": "markdown",
   "metadata": {},
   "source": [
    "## Exercise 1\n",
    "\n",
    "Write a program that gets the first line of an email and extracts the host domain (bolded in the following example) of the sender from that:\n",
    "<br>If the domain is uww.edu print the message 'internal email', otherwise print the message 'external email' on the screen.\n",
    "<br><br>Example1: \n",
    "<br>First line of email: From stephen.marquard@<font color=blue>**uct.ac.za**</font> Sat Jan  5 2019 09:14:16\n",
    "<br>host: uct.ac.za\n",
    "<br>external email\n",
    "<br><br>Example2: \n",
    "<br>First line of email: From davazdab@<font color=blue>**uww.edu**</font> Sun Mar 23 2020 19:24:46\n",
    "<br>host: uww.edu\n",
    "<br>internal email"
   ]
  },
  {
   "cell_type": "code",
   "execution_count": null,
   "metadata": {},
   "outputs": [],
   "source": [
    "# step 1: getting userinfo\n",
    "line = input('Enter first line of email: ')\n",
    "\n",
    "# step 2: finding the position of @ (slice beginning)\n",
    "atpos = line.find('@')\n",
    "\n",
    "# step 3: findin the position of the space after the @ (slice ending)\n",
    "spacepos = line.find(' ', atpos)\n",
    "\n",
    "# step 4: taking out the slice (host domain)\n",
    "host = line[atpos+1:spacepos]\n",
    "\n",
    "print(host)\n",
    "print(spacepos)\n",
    "\n",
    "# determining internal or external\n",
    "if host == 'uww.edu':\n",
    "    print('Internal Email')\n",
    "else:\n",
    "    print('External Email')"
   ]
  },
  {
   "cell_type": "markdown",
   "metadata": {},
   "source": [
    "\n",
    "\n",
    "## Exercise 2\n",
    "\n",
    "Write a program that iteratively accepts 5 strings from the user (each string can be either a monetary income value beginning by dollar sign or a tax rate beginning by the percentage sign). At the end, print total income, total tax rates, and the tax amount resulted from applying total tax rate to total income.\n",
    "<br><br>Example:\n",
    "<br>Enter a value:\\\\$2530.4\n",
    "<br>Enter a value:%3.2\n",
    "<br>Enter a value:%14.3\n",
    "<br>Enter a value:\\\\$23100.55\n",
    "<br>Enter a value:\\\\$1200\n",
    "<br>Total income is USD: 26830.95\n",
    "<br>Total tax rate: 17.5\n",
    "<br>Total income tax: 4695.41625"
   ]
  },
  {
   "cell_type": "code",
   "execution_count": null,
   "metadata": {},
   "outputs": [],
   "source": [
    "# step 0: initiating variables \n",
    "total_income = 0\n",
    "total_tax = 0\n",
    "\n",
    "# step 1: a loop that accepts 5 values \n",
    "for i in range(5):\n",
    "    value = input('Enter a value: ')\n",
    "    \n",
    "# determine if the input value is an income or tax rate \n",
    "    if value[0] == '$':\n",
    "        nvalue = float(value[1:])\n",
    "        total_income += nvalue\n",
    "    else:\n",
    "        nvalue = float(value[1:])\n",
    "        total_tax += nvalue\n",
    "        \n",
    "# step 2 printing outputs \n",
    "print('Total income in USD:', total_income )\n",
    "print('Total tax rate:', total_tax)\n",
    "print('Total income tax:', total_income*total_tax*.1)"
   ]
  },
  {
   "cell_type": "markdown",
   "metadata": {},
   "source": [
    "## Assignment 1\n",
    "\n",
    "Write a program that prompts the user to enter his/her first name, last name, and year of birth in a single string (in the format: **fn ln;yyyy**), then calculates the age tell it to him/her after greeting him/her using the first name.\n",
    "<br>Make sure to capitalize the user's first name, regardless of how he/she typed it in. \n",
    "<br>Hint: review Exercise 1!\n",
    "<br><br>Example:\n",
    "<br>Enter your first name, last name, and birth year (in format fn ln;yyyy): alex smith;1994\n",
    "<br>Hi Alex, you are 28 years old!"
   ]
  },
  {
   "cell_type": "code",
   "execution_count": 8,
   "metadata": {
    "scrolled": false
   },
   "outputs": [
    {
     "name": "stdout",
     "output_type": "stream",
     "text": [
      "Enter your first name, last name, and year of birth in the following format: fn ln;yyyyBryce Rohloff;3009\n",
      "Hi Bryce , you are -987 years old!\n"
     ]
    }
   ],
   "source": [
    "# step 1: geting user info\n",
    "info = input('Enter your first name, last name, and year of birth in the following format: fn ln;yyyy')\n",
    "\n",
    "# step 2: getting the position of the first name\n",
    "fnpos = info.find(' ')\n",
    "fn = info[0 : fnpos]\n",
    "\n",
    "# step 3: getting the position of the birth year\n",
    "yrpos = info.find(';')\n",
    "birthyr = float(info[yrpos+1 : ])\n",
    "\n",
    "# step 4: calculating the age of the person\n",
    "age = int(2022 - birthyr)\n",
    "\n",
    "#step 5: output\n",
    "print('Hi', fn.capitalize(), ', you are', age, 'years old!')"
   ]
  },
  {
   "cell_type": "markdown",
   "metadata": {},
   "source": [
    "## Assignment 2\n",
    "\n",
    "Write a python program (using loops) that prompts the user to enter his/her favorite English saying, then counts the number of vowels in that (note that the user may type the saying using any combination of upper or lower case letters).\n",
    "\n",
    "<br>Example:\n",
    "<br>Enter your favorite English saying: Actions speak LOUDER than words.\n",
    "<br>Number of wovels: 10"
   ]
  },
  {
   "cell_type": "code",
   "execution_count": 10,
   "metadata": {},
   "outputs": [
    {
     "name": "stdout",
     "output_type": "stream",
     "text": [
      "Enter your favorite English saying: this is going to be a typing test\n",
      "The number of vowels: 9\n"
     ]
    }
   ],
   "source": [
    "# step 1: getting user input\n",
    "saying=input(\"Enter your favorite English saying: \");\n",
    "vowels=0\n",
    "\n",
    "# step 2: going through the input with a vowel-counting loop\n",
    "for i in saying:\n",
    "    if(i == 'a'or i == 'e'or i == 'i'or i == 'o'or i == 'u' or \n",
    "       i == 'A'or i == 'E'or i == 'I'or i == 'O'or i == 'U' ):\n",
    "        vowels=vowels+1\n",
    "\n",
    "# step 3: output\n",
    "print(\"The number of vowels:\", vowels);"
   ]
  }
 ],
 "metadata": {
  "kernelspec": {
   "display_name": "Python 3 (ipykernel)",
   "language": "python",
   "name": "python3"
  },
  "language_info": {
   "codemirror_mode": {
    "name": "ipython",
    "version": 3
   },
   "file_extension": ".py",
   "mimetype": "text/x-python",
   "name": "python",
   "nbconvert_exporter": "python",
   "pygments_lexer": "ipython3",
   "version": "3.9.12"
  }
 },
 "nbformat": 4,
 "nbformat_minor": 2
}
