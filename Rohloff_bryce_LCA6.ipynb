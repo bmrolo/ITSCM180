{
 "cells": [
  {
   "cell_type": "markdown",
   "metadata": {},
   "source": [
    "## Exercise 1.1\n",
    "\n",
    "Exercise 1: Write a program to read through the **mbox-short.txt** file and extract and print all the URLs (e.g., http://source.sakaiproject.org/viewsvn/?view=rev&rev=39772) included in it. A URL begins with **http://** and could be located anywhere in a line.\n",
    "<br> Also, create a text file called *url.txt* and store all the URLs (program outputs) in that.\n",
    "\n",
    "<br> Link to download the txt file: http://www.py4e.com/code3/mbox-short.txt\n"
   ]
  },
  {
   "cell_type": "code",
   "execution_count": null,
   "metadata": {},
   "outputs": [],
   "source": [
    "mbox = open('mbox-short.txt')\n",
    "outhandle = open('urls.txt', 'w')\n",
    "\n",
    "# step 2: for loop to scan file\n",
    "for line in mbox:\n",
    "    if 'http://' in line:\n",
    "        url_beg = line.find('http://')\n",
    "        url_end = line.find(' ', url_beg)\n",
    "        url = line[url_beg : url_end]\n",
    "        outhandle.write(url+'/n')\n",
    "        \n",
    "outhandle.close()"
   ]
  },
  {
   "cell_type": "markdown",
   "metadata": {},
   "source": [
    "## Exercise 2\n",
    "\n",
    "Write a program that prompts for a server log text file name, then opens it and reads through its lines looking for the lines with following pattern:\n",
    "<br>**X-DSPAM-Confidence: 0.8475**\n",
    "<br>Each line starting with “X-DSPAM-Confidence:” contains a number that shows the probability of the corresponding email to be an innocent message (i.e., not a spam). \n",
    "<br>Your program is supposed to extract all those confidence numbers and calculate their average across the entire log file.\n",
    "<br>\n",
    "<br>Example:\n",
    "<br>Enter the file name: mbox.txt\n",
    "<br>Average spam confidence: 0.894128046745\n",
    "<br>Enter the file name: mbox-short.txt\n",
    "<br>Average spam confidence: 0.750718518519"
   ]
  },
  {
   "cell_type": "code",
   "execution_count": null,
   "metadata": {},
   "outputs": [],
   "source": [
    "# getting user input\n",
    "fname = input('Enter the file name: ')\n",
    "fhand = open(fname)\n",
    "\n",
    "# step 1: initiate count and total variable\n",
    "count = 0\n",
    "total = 0\n",
    "\n",
    "# step 2: reading through the lines of the file \n",
    "for line in fhand:\n",
    "    if line.startswith('X-DSPAM-Confidence:'):\n",
    "        num = float(line[20 : ])\n",
    "        count +=1\n",
    "        total += num\n",
    "print('Average spam confidence', total/count )"
   ]
  },
  {
   "cell_type": "markdown",
   "metadata": {},
   "source": [
    "## Assignment 1\n",
    "\n",
    "Download the pi_1m.txt file from the following url: https://bit.ly/3CMK8Jp .The file contains the pi number with its first 1 million decimal digits. \n",
    "<br>Write a program that prompts user to enter his/her birth date in the format **mm/dd/yyyy**. Then remove slashes (/) from the entered birth date and convert it to a string with only numeric characters (hint: use the *replace* method). Finally, check if the resulted number appears anywhere in the pi number. \n",
    "\n",
    "\n",
    "<br>Example 1:\n",
    "<br>Enter your birth date in the format mm/dd/yyyy: 05/30/2004 \n",
    "<br> Cool! Your birthday appears in the first 1 million digits of the pi number! \n",
    "<br>Example 2:\n",
    "<br>Enter your birth date in the format mm/dd/yyyy: 06/18/1989\n",
    "<br>Sorry! Your birthday does not appear in the first 1 million digits of the pi number!"
   ]
  },
  {
   "cell_type": "code",
   "execution_count": 5,
   "metadata": {},
   "outputs": [
    {
     "name": "stdout",
     "output_type": "stream",
     "text": [
      "Enter your birth date in the format mm/dd/yyyy02/26/2004\n",
      "Sorry! Your birthday does not appear in the first 1 million digits of the pi number!\n"
     ]
    }
   ],
   "source": [
    "# opening pi document\n",
    "pidoc = open('pi_1m.txt')\n",
    "\n",
    "# getting user input\n",
    "bday_old = input('Enter your birth date in the format mm/dd/yyyy')\n",
    "\n",
    "#changing the user input to remove the slashes\n",
    "bday_new = str(bday_old.replace('/',''))\n",
    "\n",
    "# searching through the document\n",
    "for line in pidoc:\n",
    "    if bday_new in line:\n",
    "        print('Cool! Your birthday appears in the first 1 million digits of the pit number!')\n",
    "    else:\n",
    "        print('Sorry! Your birthday does not appear in the first 1 million digits of the pi number!')"
   ]
  },
  {
   "cell_type": "markdown",
   "metadata": {},
   "source": [
    "## Assignment 2\n",
    "\n",
    "For a given email message recorded in mbox.txt log file, the lines starting with the term **'From:'** contain email address of the sender of the message. \n",
    "<br> Write a program that opens mbox.txt log file, then for senders' email addresses whose host domain is **@umich.edu** extract *only the username part (before @)*.\n",
    "<br> Create an output txt file called **umich_users.txt** and store and save all extracted usernames on that.\n",
    "\n",
    "<br> Hint: the *username part* in those lines is located between the only white space and the only @ character.\n",
    "\n",
    "<br> The output file should have 491 lines, each username in a separate line.\n"
   ]
  },
  {
   "cell_type": "code",
   "execution_count": 26,
   "metadata": {},
   "outputs": [],
   "source": [
    "# opening mbox.txt log file \n",
    "mbox = open('mbox.txt')\n",
    "outhandle = open('umuch_users.txt','w')\n",
    "\n",
    "# scanning through the document\n",
    "for line in mbox:\n",
    "    line = line.rstrip()\n",
    "    if not line.startswith('From:'):\n",
    "        continue\n",
    "    if line.find('@umich.edu') == -1: \n",
    "        dom_start = line.find('From:')\n",
    "        dom_end = line.find('@',)\n",
    "        user = line[dom_start : dom_end]\n",
    "        outhandle.write(user + '/n')\n",
    "\n",
    "outhandle.close()"
   ]
  },
  {
   "cell_type": "code",
   "execution_count": null,
   "metadata": {},
   "outputs": [],
   "source": []
  }
 ],
 "metadata": {
  "kernelspec": {
   "display_name": "Python 3 (ipykernel)",
   "language": "python",
   "name": "python3"
  },
  "language_info": {
   "codemirror_mode": {
    "name": "ipython",
    "version": 3
   },
   "file_extension": ".py",
   "mimetype": "text/x-python",
   "name": "python",
   "nbconvert_exporter": "python",
   "pygments_lexer": "ipython3",
   "version": "3.9.12"
  }
 },
 "nbformat": 4,
 "nbformat_minor": 2
}
