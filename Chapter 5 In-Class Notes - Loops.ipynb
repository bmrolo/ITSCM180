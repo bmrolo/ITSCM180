{
 "cells": [
  {
   "cell_type": "code",
   "execution_count": null,
   "id": "ccfdcaf5",
   "metadata": {},
   "outputs": [],
   "source": [
    "i = 0\n",
    "while i < 5:\n",
    "    print(i)\n",
    "    i = i + 1 \n",
    "print('Done')"
   ]
  },
  {
   "cell_type": "code",
   "execution_count": null,
   "id": "7b60c145",
   "metadata": {},
   "outputs": [],
   "source": [
    "while True:\n",
    "    name = input('Student name? ')\n",
    "    if name == 'done':\n",
    "        break\n",
    "    if name == 'unknown':\n",
    "        continue\n",
    "    print('Hello',name)\n",
    "print('Finish')"
   ]
  },
  {
   "cell_type": "code",
   "execution_count": null,
   "id": "1c386933",
   "metadata": {},
   "outputs": [],
   "source": [
    "for i in range(5):\n",
    "    name = input('Enter a name: ')\n",
    "    print('Hello',name)"
   ]
  },
  {
   "cell_type": "code",
   "execution_count": null,
   "id": "98fcca81",
   "metadata": {},
   "outputs": [],
   "source": [
    "# finding the max value within a list\n",
    "numbers = [9, 44, 56, 89, 1, 5, 43]\n",
    "largest_so_far = -100\n",
    "for num in numbers: \n",
    "    if num > largest_so_far:\n",
    "       largest_so_far = num\n",
    "    print('Largest so far:', largest_so_far)\n",
    "print('The largest value was:', largest_so_far)"
   ]
  },
  {
   "cell_type": "code",
   "execution_count": null,
   "id": "ea9f9b5f",
   "metadata": {},
   "outputs": [],
   "source": [
    "# Find the min value within a list\n",
    "\n",
    "numbers = [9,44,56,89,1,5,43]\n",
    "smallest_so_far = 99\n",
    "for num in numbers:\n",
    "    if num < smallest_so_far:\n",
    "        smallest_so_far = num\n",
    "    print('Smallest so far', smallest_so_far)\n",
    "print('The smallest value was:', smallest_so_far)"
   ]
  },
  {
   "cell_type": "code",
   "execution_count": 1,
   "id": "27a63862",
   "metadata": {},
   "outputs": [
    {
     "ename": "NameError",
     "evalue": "name 'numbers' is not defined",
     "output_type": "error",
     "traceback": [
      "\u001b[0;31m---------------------------------------------------------------------------\u001b[0m",
      "\u001b[0;31mNameError\u001b[0m                                 Traceback (most recent call last)",
      "\u001b[1;32m/Users/brycerohloff/ITSCM180/Chapter 5 In-Class Notes - Loops.ipynb Cell 6\u001b[0m line \u001b[0;36m3\n\u001b[1;32m      <a href='vscode-notebook-cell:/Users/brycerohloff/ITSCM180/Chapter%205%20In-Class%20Notes%20-%20Loops.ipynb#W5sZmlsZQ%3D%3D?line=0'>1</a>\u001b[0m \u001b[39m# counting\u001b[39;00m\n\u001b[1;32m      <a href='vscode-notebook-cell:/Users/brycerohloff/ITSCM180/Chapter%205%20In-Class%20Notes%20-%20Loops.ipynb#W5sZmlsZQ%3D%3D?line=1'>2</a>\u001b[0m count \u001b[39m=\u001b[39m \u001b[39m0\u001b[39m \n\u001b[0;32m----> <a href='vscode-notebook-cell:/Users/brycerohloff/ITSCM180/Chapter%205%20In-Class%20Notes%20-%20Loops.ipynb#W5sZmlsZQ%3D%3D?line=2'>3</a>\u001b[0m \u001b[39mfor\u001b[39;00m num \u001b[39min\u001b[39;00m numbers: \n\u001b[1;32m      <a href='vscode-notebook-cell:/Users/brycerohloff/ITSCM180/Chapter%205%20In-Class%20Notes%20-%20Loops.ipynb#W5sZmlsZQ%3D%3D?line=3'>4</a>\u001b[0m     count \u001b[39m+\u001b[39m\u001b[39m=\u001b[39m \u001b[39m1\u001b[39m \n\u001b[1;32m      <a href='vscode-notebook-cell:/Users/brycerohloff/ITSCM180/Chapter%205%20In-Class%20Notes%20-%20Loops.ipynb#W5sZmlsZQ%3D%3D?line=4'>5</a>\u001b[0m \u001b[39mprint\u001b[39m(count)\n",
      "\u001b[0;31mNameError\u001b[0m: name 'numbers' is not defined"
     ]
    }
   ],
   "source": [
    "# counting\n",
    "count = 0 \n",
    "for num in numbers: \n",
    "    count += 1 \n",
    "print(count)"
   ]
  },
  {
   "cell_type": "code",
   "execution_count": 2,
   "id": "5ced86d4",
   "metadata": {
    "scrolled": false
   },
   "outputs": [
    {
     "ename": "NameError",
     "evalue": "name 'numbers' is not defined",
     "output_type": "error",
     "traceback": [
      "\u001b[0;31m---------------------------------------------------------------------------\u001b[0m",
      "\u001b[0;31mNameError\u001b[0m                                 Traceback (most recent call last)",
      "\u001b[1;32m/Users/brycerohloff/ITSCM180/Chapter 5 In-Class Notes - Loops.ipynb Cell 7\u001b[0m line \u001b[0;36m3\n\u001b[1;32m      <a href='vscode-notebook-cell:/Users/brycerohloff/ITSCM180/Chapter%205%20In-Class%20Notes%20-%20Loops.ipynb#W6sZmlsZQ%3D%3D?line=0'>1</a>\u001b[0m \u001b[39m# summing \u001b[39;00m\n\u001b[1;32m      <a href='vscode-notebook-cell:/Users/brycerohloff/ITSCM180/Chapter%205%20In-Class%20Notes%20-%20Loops.ipynb#W6sZmlsZQ%3D%3D?line=1'>2</a>\u001b[0m total \u001b[39m=\u001b[39m \u001b[39m0\u001b[39m \n\u001b[0;32m----> <a href='vscode-notebook-cell:/Users/brycerohloff/ITSCM180/Chapter%205%20In-Class%20Notes%20-%20Loops.ipynb#W6sZmlsZQ%3D%3D?line=2'>3</a>\u001b[0m \u001b[39mfor\u001b[39;00m num \u001b[39min\u001b[39;00m numbers: \n\u001b[1;32m      <a href='vscode-notebook-cell:/Users/brycerohloff/ITSCM180/Chapter%205%20In-Class%20Notes%20-%20Loops.ipynb#W6sZmlsZQ%3D%3D?line=3'>4</a>\u001b[0m     total \u001b[39m+\u001b[39m\u001b[39m=\u001b[39m num\n\u001b[1;32m      <a href='vscode-notebook-cell:/Users/brycerohloff/ITSCM180/Chapter%205%20In-Class%20Notes%20-%20Loops.ipynb#W6sZmlsZQ%3D%3D?line=4'>5</a>\u001b[0m     \u001b[39mprint\u001b[39m(\u001b[39m'\u001b[39m\u001b[39mTotal so far:\u001b[39m\u001b[39m'\u001b[39m, total)\n",
      "\u001b[0;31mNameError\u001b[0m: name 'numbers' is not defined"
     ]
    }
   ],
   "source": [
    "# summing \n",
    "total = 0 \n",
    "for num in numbers: \n",
    "    total += num\n",
    "    print('Total so far:', total)\n",
    "print('Total:',total)"
   ]
  },
  {
   "cell_type": "code",
   "execution_count": null,
   "id": "73304d61",
   "metadata": {},
   "outputs": [],
   "source": [
    "# finding the average\n",
    "count = 0 \n",
    "total = 0\n",
    "for num in numbers: \n",
    "    total += num\n",
    "    count += 1 \n",
    "print(total/count)"
   ]
  },
  {
   "cell_type": "code",
   "execution_count": null,
   "id": "6660386a",
   "metadata": {},
   "outputs": [],
   "source": []
  }
 ],
 "metadata": {
  "kernelspec": {
   "display_name": "Python 3 (ipykernel)",
   "language": "python",
   "name": "python3"
  },
  "language_info": {
   "codemirror_mode": {
    "name": "ipython",
    "version": 3
   },
   "file_extension": ".py",
   "mimetype": "text/x-python",
   "name": "python",
   "nbconvert_exporter": "python",
   "pygments_lexer": "ipython3",
   "version": "3.11.6"
  }
 },
 "nbformat": 4,
 "nbformat_minor": 5
}
