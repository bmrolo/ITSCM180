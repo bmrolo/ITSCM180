{
 "cells": [
  {
   "cell_type": "markdown",
   "metadata": {},
   "source": [
    "## Exercise 1\n",
    "\n",
    "Suppose the following numbers are weekly gross pays of 10 employees of a restaurant: \n",
    "<br>[590, 617, 445, 973, 174, 108, 522, 144, 881, 162]\n",
    "<br>write a program that calculates tax for each individual (5% if pay is lower than 300, 9% otherwise), shows each individual **pay after tax**, and at the end shows **total tax** that the employer should deduct across all employees."
   ]
  },
  {
   "cell_type": "code",
   "execution_count": null,
   "metadata": {},
   "outputs": [],
   "source": [
    "pays = [590, 617, 445, 973, 174, 108, 522, 144, 881, 162]\n",
    "\n",
    "# initiate the total tax variable\n",
    "total_tax = 0\n",
    "\n",
    "# loop for calculatign net pay\n",
    "for pay in pays:\n",
    "    if pay < 300:\n",
    "        rate = 0.05\n",
    "        ind_tax = pay * rate\n",
    "    else:\n",
    "        rate = 0.09\n",
    "        ind_tax = pay * rate\n",
    "    print('Pay after tax:', pay - ind_tax)\n",
    "    total_tax += ind_tax\n",
    "    \n",
    "# print out the total tax\n",
    "print('Total tax deuction acress all employees', total_tax)"
   ]
  },
  {
   "cell_type": "markdown",
   "metadata": {},
   "source": [
    "## Exercise 2\n",
    "\n",
    "**Number Guessing Game:**\n",
    "<br> Write a python program that first generates a random integer between 0 and 1000 as the answer to a number guessing game. Then gets up to 10 guesses from user repeatedly and each time gives a hint (either **go up** or **go down**)so that the user can make a closer guess in the next attempt.\n",
    "<br> If the user correctly guessed the answer before the 10th attempt, show him/her a *congrats* message and terminate the game.\n",
    "<br> If the user could not take a correct guess after the 10th attempt, show him/her a *game over* message and reveal the correct answer."
   ]
  },
  {
   "cell_type": "code",
   "execution_count": null,
   "metadata": {},
   "outputs": [],
   "source": [
    "# generating a random number \n",
    "import random\n",
    "answer = random.randint(0,1000)\n",
    "\n",
    "# setting attempts variable \n",
    "attempt_count = 0 \n",
    "\n",
    "# defining the loop\n",
    "while True:\n",
    "    guess = int(input('Take a guess: '))\n",
    "    if guess > answer:\n",
    "        print('Go Down!')\n",
    "    elif guess < answer:\n",
    "        print('Go up!')\n",
    "    elif guess == answer:\n",
    "        print('Congrats! You won!')\n",
    "        break\n",
    "    attempt_count += 1 \n",
    "    \n",
    "# checking the used number of attempts w/ termination \n",
    "    if attempt_count == 10:\n",
    "        print('Game Over!, the correct answer was', answer)\n",
    "        break\n",
    "    "
   ]
  },
  {
   "cell_type": "markdown",
   "metadata": {},
   "source": [
    "## Assignment 1\n",
    "\n",
    "Write a program that keeps getting a set of numbers from user until the user enters **\"done\"**. Then shows the **count**, **total**, and **average** of the entered numbers.  \n",
    "<br>\n",
    "<br>Example:\n",
    "<br>Enter a number: 55\n",
    "<br>Enter a number: 90\n",
    "<br>Enter a number: 12\n",
    "<br>Enter a number: done\n",
    "<br>You entered 3 numbers, total is 157, average is 52.33333"
   ]
  },
  {
   "cell_type": "code",
   "execution_count": 3,
   "metadata": {},
   "outputs": [
    {
     "name": "stdout",
     "output_type": "stream",
     "text": [
      "Enter a number: 55\n",
      "Enter a number: 90\n",
      "Enter a number: 12\n",
      "Enter a number: done\n",
      "You entered 3 numbers, total is 157.0 average is 52.333333333333336\n"
     ]
    }
   ],
   "source": [
    "# setting variable numcount\n",
    "numcount = 0 \n",
    "total = 0\n",
    "# loop / Getting input from user \n",
    "while True:\n",
    "    number = input('Enter a number: ')\n",
    "    if number == 'done':\n",
    "        break\n",
    "    else:\n",
    "        numcount += 1\n",
    "        total += float(number)\n",
    "        continue\n",
    "print('You entered', numcount, 'numbers, total is', total, 'average is', total/numcount)"
   ]
  },
  {
   "cell_type": "markdown",
   "metadata": {},
   "source": [
    "## Assignment 2\n",
    "\n",
    "Suppose that the following numbers are radiuses of ten circles in feet:\n",
    "<br>[8.4, 7.3, 4.2, 9.9, 6.9, 5.5, 7, 7.2, 8.1, 6.6]\n",
    "<br> write a program that counts the number of circles from this set whose area is larger than 200 sqft.\n",
    "\n",
    "<br>(Answer: 3)"
   ]
  },
  {
   "cell_type": "code",
   "execution_count": 2,
   "metadata": {},
   "outputs": [
    {
     "name": "stdout",
     "output_type": "stream",
     "text": [
      "There are 3 circles whose area is larger than 200 sqft.\n"
     ]
    }
   ],
   "source": [
    "# numbers given \n",
    "numbers = [8.4, 7.3, 4.2, 9.9, 6.9, 5.5, 7, 7.2, 8.1, 6.6] \n",
    "large_area = 200\n",
    "larger_count = 0 \n",
    "for num in numbers: \n",
    "    if (num**2)*3.14 > large_area:\n",
    "        larger_count += 1 \n",
    "print('There are', larger_count, 'circles whose area is larger than 200 sqft.')"
   ]
  }
 ],
 "metadata": {
  "kernelspec": {
   "display_name": "Python 3 (ipykernel)",
   "language": "python",
   "name": "python3"
  },
  "language_info": {
   "codemirror_mode": {
    "name": "ipython",
    "version": 3
   },
   "file_extension": ".py",
   "mimetype": "text/x-python",
   "name": "python",
   "nbconvert_exporter": "python",
   "pygments_lexer": "ipython3",
   "version": "3.9.12"
  }
 },
 "nbformat": 4,
 "nbformat_minor": 2
}
