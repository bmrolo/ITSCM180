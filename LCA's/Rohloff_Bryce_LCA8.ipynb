{
 "cells": [
  {
   "cell_type": "markdown",
   "id": "cee4b18c",
   "metadata": {},
   "source": [
    "## Exercise 1\n",
    "\n",
    "Write a program that prompts the user to enter a text file name (either mbox.txt or mbox-short.txt), then categorizes each mail message by which day of the week the commit was done. \n",
    "To do this look for lines that start with “From ”, then look for the third word and keep a running count of each of the days of the week. At the end of the program print out the contents of your dictionary (order does not matter).\n",
    "\n",
    "<br>Example:\n",
    "<br>Enter a file name: mbox-short.txt\n",
    "<br>{'Fri': 20, 'Thu': 6, 'Sat': 1}"
   ]
  },
  {
   "cell_type": "code",
   "execution_count": null,
   "id": "29b6566f",
   "metadata": {},
   "outputs": [],
   "source": [
    "# getting the file name from user\n",
    "fname = input('Enter a file name:')\n",
    "fhandle = open(fname)\n",
    "days=[]\n",
    "# for loop to read through the lines of txt file\n",
    "for line in fhandle:\n",
    "    if line.startswith('From '):\n",
    "        words = line.split()\n",
    "        day = words[2]\n",
    "        days.append(day)\n",
    "# creaing a many-counter dictionary to count the number of messages in each weekday\n",
    "daycounts = dict()\n",
    "for day in days:\n",
    "    daycounts[day] = daycounts.get(day,0)+1\n",
    "print(daycounts)"
   ]
  },
  {
   "cell_type": "markdown",
   "id": "dd7551a4",
   "metadata": {},
   "source": [
    "## Exercise 2\n",
    "\n",
    "Download and open (in your code) the text file 'encryption.txt' from the following URL:\n",
    "<br>https://drive.google.com/file/d/1jlGB0pERXo4tTEJbeRWmgSkqa3-mUBao/view?usp=sharing\n",
    "<br>Each line of the file contains a letter from alphabets and a special character assigned to that (separated by comma) (e.g., a $). Write a program that reads through the file and creates a dictionary with letters as the keys and special characters as the values.\n",
    "<br>Then prompt the user to enter his/her name and show him/her the encrypted version of the name. Make sure to convert the user's input to all lowercase letters.\n",
    "\n",
    "Example:\n",
    "<br>Enter your name: Behrooz Emami\n",
    "<br>%14|66+ 1]@]*"
   ]
  },
  {
   "cell_type": "code",
   "execution_count": 2,
   "id": "0dfca859",
   "metadata": {},
   "outputs": [
    {
     "name": "stdout",
     "output_type": "stream",
     "text": [
      "{' ': '`', 'a': '@', 'b': '%', 'c': '!', 'd': '&', 'e': '1', 'f': '#', 'g': '0', 'h': '4', 'i': '}', 'j': '^', 'k': '9', 'l': '7', 'm': ']', 'n': '{', 'o': '6', 'p': '~', 'q': '2', 'r': '|', 's': '5', 't': '.', 'u': '(', 'v': '/', 'w': '3', 'x': '-', 'y': '>', 'z': '+'}\n"
     ]
    }
   ],
   "source": [
    "fhand = open('encryption.txt')\n",
    "\n",
    "#creating a dictionary of codes with letters as keyrs and special chars as values\n",
    "\n",
    "codes = {}\n",
    "for line in fhand:\n",
    "    line = line.rstrip()\n",
    "    chars = line.split(',')\n",
    "    codes[chars[0]] = chars[1]\n",
    "\n",
    "\n",
    "# getting a name from user and encrypt it\n",
    "name = input('Enter your name: ').lower()\n",
    "encoded_name = ''\n",
    "for char in name:\n",
    "    encoded_name += codes.get(char)\n",
    "    \n",
    "print('Your encrypted name is:', encoded_name)"
   ]
  },
  {
   "cell_type": "markdown",
   "id": "a11a1c6b",
   "metadata": {},
   "source": [
    "## Assignment 1\n",
    "\n",
    "The following script takes the *codes* dictionary we created in Exercise 2 and converts that to a new dictionary called *newcodes* where the keys and values are swapped.\n",
    "<br> Write a program that uses the newcode dictionary to decrypt the following encrypted text: \n",
    "<br>066& .4}{05 .@91 .}]1"
   ]
  },
  {
   "cell_type": "code",
   "execution_count": null,
   "id": "720d3e23",
   "metadata": {
    "scrolled": true
   },
   "outputs": [],
   "source": [
    "#swapping the keys and values of the dictionary \"codes\"\n",
    "newcodes={}\n",
    "for key in codes:\n",
    "    newcodes[codes[key]]= key\n",
    "    \n",
    "#write your code below this line\n",
    "message = input('Enter your name: ')\n",
    "decoded_message = ''\n",
    "for char in message:\n",
    "    decoded_message += newcodes.get(char)\n",
    "    \n",
    "print(decoded_message)"
   ]
  },
  {
   "cell_type": "markdown",
   "id": "b172883d",
   "metadata": {},
   "source": [
    "## Assignment 2\n",
    "\n",
    "Write a program that repeatedly takes pairs of **name,salary** (separated by comma) from user (until the user enters 'done') and saves all the inputs in a python dictionary called **salaries** where the name of person is the key and his/her salary (as an integer number) is the value in the dictionary. In the end, print the salaries dictionary.\n",
    "\n",
    "Example:\n",
    "<br>Enter an employee name with his/her salary: Alex,2800\n",
    "<br>Enter an employee name with his/her salary: Ben,3400\n",
    "<br>Enter an employee name with his/her salary: Max,7100\n",
    "<br>Enter an employee name with his/her salary: done\n",
    "<br>{'Alex': 2800, 'Ben': 3400, 'Max': 7100}"
   ]
  },
  {
   "cell_type": "code",
   "execution_count": 3,
   "id": "ce350196",
   "metadata": {
    "scrolled": true
   },
   "outputs": [
    {
     "name": "stdout",
     "output_type": "stream",
     "text": [
      "Enter an employee name with his/her salary: Bryce,2800\n",
      "Enter an employee name with his/her salary: done\n",
      "{'Bryce': 2800}\n"
     ]
    }
   ],
   "source": [
    "salaries = {}\n",
    "\n",
    "while True:\n",
    "    info = input('Enter an employee name with his/her salary: ')\n",
    "    if info == 'done':\n",
    "        break\n",
    "    else:\n",
    "        # seperating info\n",
    "        name = info.split(',')[0]\n",
    "        salary = int(info.split(',')[1])\n",
    "        \n",
    "        # putting the two strings into salaries\n",
    "        salaries[name] = salary\n",
    "\n",
    "print(salaries)"
   ]
  }
 ],
 "metadata": {
  "kernelspec": {
   "display_name": "Python 3 (ipykernel)",
   "language": "python",
   "name": "python3"
  },
  "language_info": {
   "codemirror_mode": {
    "name": "ipython",
    "version": 3
   },
   "file_extension": ".py",
   "mimetype": "text/x-python",
   "name": "python",
   "nbconvert_exporter": "python",
   "pygments_lexer": "ipython3",
   "version": "3.9.12"
  }
 },
 "nbformat": 4,
 "nbformat_minor": 5
}
