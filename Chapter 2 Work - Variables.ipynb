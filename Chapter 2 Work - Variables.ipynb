{
 "cells": [
  {
   "cell_type": "code",
   "execution_count": 1,
   "id": "b2a8b668",
   "metadata": {},
   "outputs": [
    {
     "name": "stdout",
     "output_type": "stream",
     "text": [
      "What is your name? Bryce\n",
      "Nice to meet you Bryce\n"
     ]
    }
   ],
   "source": [
    "age = input('What is your name? ')\n",
    "print('Nice to meet you', age)"
   ]
  },
  {
   "cell_type": "code",
   "execution_count": 4,
   "id": "7e81a933",
   "metadata": {},
   "outputs": [
    {
     "name": "stdout",
     "output_type": "stream",
     "text": [
      "How old are you? 18\n",
      "You are 2 years older than 16\n"
     ]
    }
   ],
   "source": [
    "age = input('How old are you? ')\n",
    "print('You are 2 years older than', int(age)- 2,)"
   ]
  }
 ],
 "metadata": {
  "kernelspec": {
   "display_name": "Python 3 (ipykernel)",
   "language": "python",
   "name": "python3"
  },
  "language_info": {
   "codemirror_mode": {
    "name": "ipython",
    "version": 3
   },
   "file_extension": ".py",
   "mimetype": "text/x-python",
   "name": "python",
   "nbconvert_exporter": "python",
   "pygments_lexer": "ipython3",
   "version": "3.9.12"
  }
 },
 "nbformat": 4,
 "nbformat_minor": 5
}
