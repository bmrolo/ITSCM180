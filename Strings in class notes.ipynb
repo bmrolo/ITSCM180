{
 "cells": [
  {
   "cell_type": "code",
   "execution_count": null,
   "id": "cc9e0bd1",
   "metadata": {},
   "outputs": [],
   "source": [
    "fruit = 'banana'\n",
    "index = 0\n",
    "while index < len(fruit): \n",
    "    letter = fruit[index]\n",
    "    print(letter)\n",
    "    index = index + 1"
   ]
  },
  {
   "cell_type": "code",
   "execution_count": null,
   "id": "b38530c7",
   "metadata": {},
   "outputs": [],
   "source": [
    "word = input('Enter a word ')\n",
    "char = input('Enter a character ')\n",
    "count_char = 0\n",
    "for letter in word:\n",
    "    if letter == char:\n",
    "        count_char += 1\n",
    "\n",
    "print('The letter', char, ' is appeared in', word, count_char, 'times')"
   ]
  },
  {
   "cell_type": "code",
   "execution_count": null,
   "id": "9b5df10e",
   "metadata": {},
   "outputs": [],
   "source": [
    "'book' > 'cat'"
   ]
  },
  {
   "cell_type": "code",
   "execution_count": null,
   "id": "df4b8242",
   "metadata": {},
   "outputs": [],
   "source": [
    "'book' > 'Book' #lowercase letters come first in the python dictionary"
   ]
  },
  {
   "cell_type": "code",
   "execution_count": null,
   "id": "fd638986",
   "metadata": {},
   "outputs": [],
   "source": [
    "dir(str)"
   ]
  },
  {
   "cell_type": "code",
   "execution_count": null,
   "id": "486c4843",
   "metadata": {},
   "outputs": [],
   "source": [
    "help(str.title)"
   ]
  },
  {
   "cell_type": "code",
   "execution_count": null,
   "id": "0d97393a",
   "metadata": {},
   "outputs": [],
   "source": [
    "str.lower('BAILIE')"
   ]
  },
  {
   "cell_type": "code",
   "execution_count": null,
   "id": "dfaddc44",
   "metadata": {},
   "outputs": [],
   "source": [
    "'TESTING'.lower()"
   ]
  },
  {
   "cell_type": "code",
   "execution_count": null,
   "id": "dd80f6c5",
   "metadata": {},
   "outputs": [],
   "source": [
    "'testing'.capitalize()"
   ]
  },
  {
   "cell_type": "code",
   "execution_count": 1,
   "id": "3028be26",
   "metadata": {
    "scrolled": true
   },
   "outputs": [
    {
     "data": {
      "text/plain": [
       "0"
      ]
     },
     "execution_count": 1,
     "metadata": {},
     "output_type": "execute_result"
    }
   ],
   "source": [
    "word = 'testing'\n",
    "word.find('t')"
   ]
  },
  {
   "cell_type": "raw",
   "id": "042ea3e3",
   "metadata": {},
   "source": [
    "word = 'Hawks\"\n",
    "word.replace('a','o',1)\n"
   ]
  },
  {
   "cell_type": "code",
   "execution_count": null,
   "id": "21a36495",
   "metadata": {},
   "outputs": [],
   "source": []
  }
 ],
 "metadata": {
  "kernelspec": {
   "display_name": "Python 3 (ipykernel)",
   "language": "python",
   "name": "python3"
  },
  "language_info": {
   "codemirror_mode": {
    "name": "ipython",
    "version": 3
   },
   "file_extension": ".py",
   "mimetype": "text/x-python",
   "name": "python",
   "nbconvert_exporter": "python",
   "pygments_lexer": "ipython3",
   "version": "3.9.12"
  }
 },
 "nbformat": 4,
 "nbformat_minor": 5
}
