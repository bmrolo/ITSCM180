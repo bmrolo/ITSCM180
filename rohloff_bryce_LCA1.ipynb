{
 "cells": [
  {
   "cell_type": "markdown",
   "metadata": {},
   "source": [
    "# Exercise 1\n",
    "\n",
    "Write a program that gets from the user radius of a circle (r) in inches, and compute its area in square feet. (area= 3.14 * r2) also (1 ft= 12 inch)\n",
    "<br>\n",
    "<br>Enter the radius in inches: 36\n",
    "<br>Area of circle is: 28.26 sqft\n"
   ]
  },
  {
   "cell_type": "code",
   "execution_count": 15,
   "metadata": {},
   "outputs": [
    {
     "name": "stdout",
     "output_type": "stream",
     "text": [
      "What is the radius of your circle in inches? 36\n",
      "Area of circle is: 28.26 sqft\n"
     ]
    }
   ],
   "source": [
    "#step 1: Getting input from user \n",
    "R = input('What is the radius of your circle in inches? ')\n",
    "\n",
    "#step 2: Converting inches to feet\n",
    "RiF = float(R)/12\n",
    "\n",
    "#step 3: Calulate the area \n",
    "area = (RiF**2)*3.14\n",
    "\n",
    "#step 4: Print the result\n",
    "print('Area of circle is:', area,\"sqft\")"
   ]
  },
  {
   "attachments": {
    "loan.gif": {
     "image/gif": "[encoded data removed]"
    }
   },
   "cell_type": "markdown",
   "metadata": {},
   "source": [
    "# Exercise 2\n",
    "\n",
    "Write a program that prompts the user to enter his/her requested loan amount, desired **annual** interest rate, and desired repayment duration, then calculates and show the amount of each monthly installment with two decimal digits. The following formula should be used:\n",
    "![loan.gif](attachment:loan.gif)\n",
    "<br>A = payment Amount per period\n",
    "<br>P = initial Principal (loan amount)\n",
    "<br>r = interest rate per **month**\n",
    "<br>n = total number of payments\n",
    "<br><br>Example:\n",
    "<br>What is your requested loan amount?50000\n",
    "<br>What is your desired interest rate?0.0499\n",
    "<br>What is your repayment duration in months?60\n",
    "<br>Your monthly installment is: 943.33"
   ]
  },
  {
   "cell_type": "code",
   "execution_count": 22,
   "metadata": {},
   "outputs": [
    {
     "name": "stdout",
     "output_type": "stream",
     "text": [
      "What is your requested loan amount? 50000\n",
      "What is your desired annual interest rate? 0.0499\n",
      "What is your repayment duration in months? 60\n",
      "943.33\n"
     ]
    }
   ],
   "source": [
    "#step 1: Getting loan information from user \n",
    "p = input('What is your requested loan amount? ')\n",
    "R = input('What is your desired annual interest rate? ')\n",
    "N = input('What is your repayment duration in months? ')\n",
    "\n",
    "#step 2: Changing the inputs into numbers \n",
    "P = float(p)\n",
    "n = int(N)\n",
    "\n",
    "#step 3: Changing the annual interest rate to monthly interest rate\n",
    "r = float(R)/12\n",
    "\n",
    "#step 3: Calculating the Payment amount per period \n",
    "A = P*((r*((1+r)**n))/(((1+r)**n)-1))\n",
    "\n",
    "#step 4: Printing the rounded payment amount per period)\n",
    "print(round(A,2))"
   ]
  },
  {
   "cell_type": "markdown",
   "metadata": {},
   "source": [
    "# Lab Assignment 1\n",
    "\n",
    "Write a program that prompts user to input his/her first name, birth year, and hometown, then calculates his/her age and welcomes him/her using his/her name, age, and hometown. Example:\n",
    "<br>\n",
    "    <br>What is your name?: Alex\n",
    "    <br>In what year were you born?: 1990\n",
    "    <br>Where are you from?: Milwaukee, WI\n",
    "    <br>Welcome Alex 32, from Milwaukee, WI"
   ]
  },
  {
   "cell_type": "code",
   "execution_count": 3,
   "metadata": {},
   "outputs": [
    {
     "name": "stdout",
     "output_type": "stream",
     "text": [
      "What is your name? Bryce\n",
      "In what year were you born? 2003\n",
      "Where are you from? Green Bay\n",
      "Welcome Bryce age 19 , from Green Bay\n"
     ]
    }
   ],
   "source": [
    "#Step 1: Getting the input information from user \n",
    "name = input('What is your name? ')\n",
    "birth_year = input('In what year were you born? ')\n",
    "hometown = input('Where are you from? ')\n",
    "\n",
    "#Step 2: Calculating age \n",
    "age = 2022 - int(birth_year)\n",
    "\n",
    "#Step 3: Output\n",
    "print('Welcome', name, 'age', age,', from', hometown)"
   ]
  },
  {
   "cell_type": "markdown",
   "metadata": {},
   "source": [
    "# Lab Assignment 2\n",
    "\n",
    "Write a program which prompts the user for a Celsius temperature, convert the temperature to Fahrenheit, and print out the\n",
    "converted temperature. (look for the conversion formula online). Example:\n",
    "<br>\n",
    "<br>Enter temperature in Celcius: 38\n",
    "<br>Temperature in Fahrenheint is: 100.4"
   ]
  },
  {
   "cell_type": "code",
   "execution_count": 6,
   "metadata": {},
   "outputs": [
    {
     "name": "stdout",
     "output_type": "stream",
     "text": [
      "What is the temperature in Celsius? 38\n",
      "Your temperature converted into Fahrenheint is 100.4 °\n"
     ]
    }
   ],
   "source": [
    "#Step 1: Getting user input\n",
    "C_temp = input('What is the temperature in Celsius? ')\n",
    "\n",
    "#Step 2: Converting Temperature\n",
    "\n",
    "F_temp = (float(C_temp)*1.8)+32\n",
    "\n",
    "#Step 3: Output\n",
    "\n",
    "print('Your temperature converted into Fahrenheint is', F_temp,'°')"
   ]
  },
  {
   "cell_type": "code",
   "execution_count": null,
   "metadata": {},
   "outputs": [],
   "source": []
  }
 ],
 "metadata": {
  "kernelspec": {
   "display_name": "Python 3 (ipykernel)",
   "language": "python",
   "name": "python3"
  },
  "language_info": {
   "codemirror_mode": {
    "name": "ipython",
    "version": 3
   },
   "file_extension": ".py",
   "mimetype": "text/x-python",
   "name": "python",
   "nbconvert_exporter": "python",
   "pygments_lexer": "ipython3",
   "version": "3.9.12"
  }
 },
 "nbformat": 4,
 "nbformat_minor": 2
}
