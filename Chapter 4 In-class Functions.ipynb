{
 "cells": [
  {
   "cell_type": "code",
   "execution_count": 6,
   "id": "a160a78c",
   "metadata": {},
   "outputs": [],
   "source": [
    "def congrats():\n",
    "    print('Congrats!')\n",
    "    \n"
   ]
  },
  {
   "cell_type": "code",
   "execution_count": 7,
   "id": "0e71aaf7",
   "metadata": {},
   "outputs": [
    {
     "name": "stdout",
     "output_type": "stream",
     "text": [
      "Congrats!\n"
     ]
    }
   ],
   "source": [
    "congrats()"
   ]
  },
  {
   "cell_type": "code",
   "execution_count": 8,
   "id": "34c5220a",
   "metadata": {},
   "outputs": [],
   "source": [
    "def congrats2(name):\n",
    "    print('Congratulations!')\n",
    "    print('You did a great job', name)"
   ]
  },
  {
   "cell_type": "code",
   "execution_count": 10,
   "id": "0213cd8f",
   "metadata": {},
   "outputs": [
    {
     "name": "stdout",
     "output_type": "stream",
     "text": [
      "Congratulations!\n",
      "You did a great job Bryce\n"
     ]
    }
   ],
   "source": [
    "congrats2('Bryce')"
   ]
  },
  {
   "cell_type": "code",
   "execution_count": 11,
   "id": "b5bff260",
   "metadata": {},
   "outputs": [
    {
     "name": "stdout",
     "output_type": "stream",
     "text": [
      "3.0\n"
     ]
    }
   ],
   "source": [
    "import math\n",
    "y = math.sqrt(9)\n",
    "print(y)"
   ]
  },
  {
   "cell_type": "code",
   "execution_count": 13,
   "id": "05fcea06",
   "metadata": {},
   "outputs": [
    {
     "data": {
      "text/plain": [
       "['__doc__',\n",
       " '__file__',\n",
       " '__loader__',\n",
       " '__name__',\n",
       " '__package__',\n",
       " '__spec__',\n",
       " 'acos',\n",
       " 'acosh',\n",
       " 'asin',\n",
       " 'asinh',\n",
       " 'atan',\n",
       " 'atan2',\n",
       " 'atanh',\n",
       " 'ceil',\n",
       " 'comb',\n",
       " 'copysign',\n",
       " 'cos',\n",
       " 'cosh',\n",
       " 'degrees',\n",
       " 'dist',\n",
       " 'e',\n",
       " 'erf',\n",
       " 'erfc',\n",
       " 'exp',\n",
       " 'expm1',\n",
       " 'fabs',\n",
       " 'factorial',\n",
       " 'floor',\n",
       " 'fmod',\n",
       " 'frexp',\n",
       " 'fsum',\n",
       " 'gamma',\n",
       " 'gcd',\n",
       " 'hypot',\n",
       " 'inf',\n",
       " 'isclose',\n",
       " 'isfinite',\n",
       " 'isinf',\n",
       " 'isnan',\n",
       " 'isqrt',\n",
       " 'lcm',\n",
       " 'ldexp',\n",
       " 'lgamma',\n",
       " 'log',\n",
       " 'log10',\n",
       " 'log1p',\n",
       " 'log2',\n",
       " 'modf',\n",
       " 'nan',\n",
       " 'nextafter',\n",
       " 'perm',\n",
       " 'pi',\n",
       " 'pow',\n",
       " 'prod',\n",
       " 'radians',\n",
       " 'remainder',\n",
       " 'sin',\n",
       " 'sinh',\n",
       " 'sqrt',\n",
       " 'tan',\n",
       " 'tanh',\n",
       " 'tau',\n",
       " 'trunc',\n",
       " 'ulp']"
      ]
     },
     "execution_count": 13,
     "metadata": {},
     "output_type": "execute_result"
    }
   ],
   "source": [
    "dir(math)"
   ]
  },
  {
   "cell_type": "code",
   "execution_count": 14,
   "id": "be2aca62",
   "metadata": {},
   "outputs": [
    {
     "name": "stdout",
     "output_type": "stream",
     "text": [
      "Help on built-in function pow in module math:\n",
      "\n",
      "pow(x, y, /)\n",
      "    Return x**y (x to the power of y).\n",
      "\n"
     ]
    }
   ],
   "source": [
    "help(math.pow)"
   ]
  },
  {
   "cell_type": "code",
   "execution_count": 16,
   "id": "25981bb7",
   "metadata": {},
   "outputs": [
    {
     "name": "stdout",
     "output_type": "stream",
     "text": [
      "15.583333333333334\n"
     ]
    }
   ],
   "source": [
    "import statistics as s\n",
    "k = s.mean([4,9,56,11,5.6,7.9])\n",
    "print(k)"
   ]
  },
  {
   "cell_type": "code",
   "execution_count": 18,
   "id": "3d7735a6",
   "metadata": {},
   "outputs": [
    {
     "name": "stdout",
     "output_type": "stream",
     "text": [
      "8.75\n"
     ]
    }
   ],
   "source": [
    "from statistics import mean as me\n",
    "p = me([8,9,7,11])\n",
    "print(p)"
   ]
  },
  {
   "cell_type": "code",
   "execution_count": 20,
   "id": "f2664e3a",
   "metadata": {
    "scrolled": true
   },
   "outputs": [
    {
     "name": "stdout",
     "output_type": "stream",
     "text": [
      "78.5\n"
     ]
    }
   ],
   "source": [
    "import areas\n",
    "print(areas.circle(5))"
   ]
  },
  {
   "cell_type": "code",
   "execution_count": 21,
   "id": "45260da6",
   "metadata": {},
   "outputs": [
    {
     "data": {
      "text/plain": [
       "22.5"
      ]
     },
     "execution_count": 21,
     "metadata": {},
     "output_type": "execute_result"
    }
   ],
   "source": [
    "areas.triangle(5,9)"
   ]
  },
  {
   "cell_type": "code",
   "execution_count": null,
   "id": "87703dff",
   "metadata": {},
   "outputs": [],
   "source": []
  }
 ],
 "metadata": {
  "kernelspec": {
   "display_name": "Python 3 (ipykernel)",
   "language": "python",
   "name": "python3"
  },
  "language_info": {
   "codemirror_mode": {
    "name": "ipython",
    "version": 3
   },
   "file_extension": ".py",
   "mimetype": "text/x-python",
   "name": "python",
   "nbconvert_exporter": "python",
   "pygments_lexer": "ipython3",
   "version": "3.9.12"
  }
 },
 "nbformat": 4,
 "nbformat_minor": 5
}
