{
 "cells": [
  {
   "cell_type": "markdown",
   "id": "b0d53d86",
   "metadata": {},
   "source": [
    "## Problem 1 (20 points)\n",
    "\n",
    "The following lines of code define three dictionaries for a movie database. They indicate the movies' **primary genre**, **production year**, **budget(in million dollars)**, and **rating**. The movie titles are dictionary keys in each case.\n",
    "\n",
    "Write a program that prompts user to enter a rating threshold (between 1 and 10) and show them a list of all movies with a rating score greater than that. Make sure that if no movie satisfies that minimum threshold your program tells that to the user explicitly instead of showing a blank list.\n",
    "\n",
    "<br>Example 1:\n",
    "<br>Enter a minimum rating threshold to see movie titles: 8.7\n",
    "<br>The movies with a rating score greater than 8.7 are:  ['inception', 'forrest gump']\n",
    "\n",
    "<br>Example 2:\n",
    "<br>Enter a minimum rating threshold to see movie titles: 9.1\n",
    "<br>Sorry, there is no movie in the database with a rating score greater than 9.1"
   ]
  },
  {
   "cell_type": "code",
   "execution_count": 6,
   "id": "16f19d75",
   "metadata": {
    "scrolled": true
   },
   "outputs": [
    {
     "name": "stdout",
     "output_type": "stream",
     "text": [
      "Enter a minimum rating threshold to see movie titles:8.7\n",
      "The movies with a rating score greater than 8.7 are: ['inception', 'forrest gump']\n"
     ]
    }
   ],
   "source": [
    "# Defining dictionaries (do not change this part of code)\n",
    "\n",
    "genres= {'old':'drama','inception':'action','interstellar':'adventure','forrest gump':'drama','ford v ferrari':'action','se7en':'crime', 'the pianist':'drama','wall.e':'animation', 'the salesman':'drama'}\n",
    "prod_years= {'old':2021, 'inception':2010,'interstellar':2014,'forrest gump':1994,'ford v ferrari':2019,'se7en':1995,'the pianist':2002,'wall.e':2008,'the salesman':2016}\n",
    "budgets= {'old':18,'inception':160,'interstellar':165,'forrest gump':55,'ford v ferrari':97.6,'se7en':33, 'the pianist':35, 'wall.e':180,'the salesman':5.5}\n",
    "ratings= {'old':5.8, 'inception':8.8,'interstellar':8.6,'forrest gump':8.8,'ford v ferrari':8.1,'se7en':8.6, 'the pianist':8.5, 'wall.e':8.4,'the salesman':7.7}\n",
    "\n",
    "\n",
    "######### write your program below this line ###########\n",
    "output = []\n",
    "\n",
    "threshold = float(input('Enter a minimum rating threshold to see movie titles:'))\n",
    "for rating in ratings:\n",
    "    if threshold > ratings[rating]:\n",
    "        continue\n",
    "    else:\n",
    "        output.append(rating)\n",
    "\n",
    "if output == []:\n",
    "    print('Sorry, there is no movie in the database with a rating score greater than', threshold)\n",
    "else:\n",
    "    print('The movies with a rating score greater than', threshold, 'are:', output)"
   ]
  },
  {
   "cell_type": "markdown",
   "id": "5e1df15f",
   "metadata": {},
   "source": [
    "## Problem 2 (25 points)\n",
    "\n",
    "Download the 'oscars.txt' text file from the following URL and upload it to your directory folder:\n",
    "<br>https://tinyurl.com/yck8jcf6\n",
    "\n",
    "The file contains the Best Actor Academy Award winners from 1927 through 2021. Each line represents a distinct year number separated from the winner's name by a **\"/\" delimiter** (e.g., 1994/Tom Hanks).\n",
    "\n",
    "Write a (many counter) program that creates a python dictionary with actor names as keys and number of times they won oscars as values. Then use that dictionary to print out the name of all actors who have won oscars at least twice. (hint: for creating the many counter dictionary you first need to create a python list of all winners (repetitive) from the txt file, then go through that for counting the frequency of each name).\n",
    "\n",
    "Expected output:\n",
    "<br>Fredric March 2\n",
    "<br>Spencer Tracy 2\n",
    "<br>Gary Cooper 2\n",
    "<br>Marlon Brando 2\n",
    "<br>Jack Nicholson 2\n",
    "<br>Dustin Hoffman 2\n",
    "<br>Anthony Hopkins 2\n",
    "<br>Tom Hanks 2\n",
    "<br>Sean Penn 2\n",
    "<br>Daniel Day-Lewis 2"
   ]
  },
  {
   "cell_type": "code",
   "execution_count": 5,
   "id": "82269a4c",
   "metadata": {},
   "outputs": [
    {
     "name": "stdout",
     "output_type": "stream",
     "text": [
      "Fredric March 2\n",
      "Spencer Tracy 2\n",
      "Gary Cooper 2\n",
      "Marlon Brando 2\n",
      "Jack Nicholson 2\n",
      "Dustin Hoffman 2\n",
      "Anthony Hopkins 2\n",
      "Tom Hanks 2\n",
      "Sean Penn 2\n",
      "Daniel Day-Lewis 2\n"
     ]
    }
   ],
   "source": [
    "oscars = open('oscars.txt','r')\n",
    "actors = []\n",
    "actor_upd = {}\n",
    "\n",
    "for line in oscars:\n",
    "    actor_old = line.split('/')[1]\n",
    "    actors.append(actor_old.split('\\n')[0])\n",
    "\n",
    "\n",
    "for actor in actors:\n",
    "    if actor in actor_upd:\n",
    "        actor_upd[actor] += 1\n",
    "    \n",
    "    else:\n",
    "        actor_upd[actor] = 1\n",
    "\n",
    "for actor in actor_upd:\n",
    "    if actor_upd[actor] == 2:\n",
    "        print(actor, actor_upd[actor])\n",
    "    else:\n",
    "        continue\n"
   ]
  },
  {
   "cell_type": "markdown",
   "id": "7ed5e1f4",
   "metadata": {},
   "source": [
    "## Problem 3 (15 points)\n",
    "\n",
    "Make a new python class called **CellPhone**. The init() method for CellPhone needs to store two attributes: **brand**, and **model** after receiving them from user at the time of object initiation. Make an attribute called **call_time** (representing total calls duration) which initiates at 0 for each new CellPhone instance. \n",
    "<br>Define a method named **call** that each time invoked gets a call duration and updates the call_time attribute, then prints out the total calls duration so far.\n",
    "<br>In the end, create a new instance of CellPhone and run the call method once (use any number you want as call duration argument)."
   ]
  },
  {
   "cell_type": "code",
   "execution_count": 8,
   "id": "1f9509ba",
   "metadata": {},
   "outputs": [],
   "source": [
    "class CellPhone:\n",
    "    call_time = 0\n",
    "    \n",
    "    def __init__(self, b, m):\n",
    "        self.brand = b\n",
    "        self.model = m\n",
    "    \n",
    "    def call(self, n):\n",
    "        self.call_time += n\n",
    "        print('Total calls duration so far:', self.call_time)"
   ]
  },
  {
   "cell_type": "code",
   "execution_count": 9,
   "id": "70f80f32",
   "metadata": {},
   "outputs": [],
   "source": [
    "pixel = CellPhone('Google','Pixel')"
   ]
  },
  {
   "cell_type": "code",
   "execution_count": 11,
   "id": "e090dc2d",
   "metadata": {
    "scrolled": true
   },
   "outputs": [
    {
     "name": "stdout",
     "output_type": "stream",
     "text": [
      "Total calls duration so far: 10\n"
     ]
    }
   ],
   "source": [
    "pixel.call(9)"
   ]
  },
  {
   "cell_type": "code",
   "execution_count": null,
   "id": "8e0112e7",
   "metadata": {},
   "outputs": [],
   "source": []
  }
 ],
 "metadata": {
  "kernelspec": {
   "display_name": "Python 3 (ipykernel)",
   "language": "python",
   "name": "python3"
  },
  "language_info": {
   "codemirror_mode": {
    "name": "ipython",
    "version": 3
   },
   "file_extension": ".py",
   "mimetype": "text/x-python",
   "name": "python",
   "nbconvert_exporter": "python",
   "pygments_lexer": "ipython3",
   "version": "3.9.12"
  }
 },
 "nbformat": 4,
 "nbformat_minor": 5
}
