{
 "cells": [
  {
   "cell_type": "code",
   "execution_count": 9,
   "id": "06592f2a",
   "metadata": {},
   "outputs": [],
   "source": [
    "grades = [2,3.5,4]\n",
    "\n",
    "friends = ['Alex','Hunter','Nicole']"
   ]
  },
  {
   "cell_type": "code",
   "execution_count": 11,
   "id": "4f8f03d9",
   "metadata": {},
   "outputs": [
    {
     "name": "stdout",
     "output_type": "stream",
     "text": [
      "['Alex', 'Hunter', 'Nicole']\n"
     ]
    }
   ],
   "source": [
    "print(friends)"
   ]
  },
  {
   "cell_type": "code",
   "execution_count": 12,
   "id": "789e796e",
   "metadata": {},
   "outputs": [
    {
     "name": "stdout",
     "output_type": "stream",
     "text": [
      "Nicole\n"
     ]
    }
   ],
   "source": [
    "print(friends[2])"
   ]
  },
  {
   "cell_type": "code",
   "execution_count": 14,
   "id": "99d31ab5",
   "metadata": {},
   "outputs": [
    {
     "data": {
      "text/plain": [
       "4"
      ]
     },
     "execution_count": 14,
     "metadata": {},
     "output_type": "execute_result"
    }
   ],
   "source": [
    "lst = [2,6,[4,1],9]\n",
    "len(lst)"
   ]
  },
  {
   "cell_type": "code",
   "execution_count": 15,
   "id": "aeb4141c",
   "metadata": {},
   "outputs": [
    {
     "name": "stdout",
     "output_type": "stream",
     "text": [
      "['Alex', 'Hunter', 'Nicole', 2, 6, [4, 1], 9]\n"
     ]
    }
   ],
   "source": [
    "# concatenation\n",
    "\n",
    "lst1 = friends + lst\n",
    "\n",
    "print(lst1)"
   ]
  },
  {
   "cell_type": "code",
   "execution_count": 20,
   "id": "61705c6e",
   "metadata": {},
   "outputs": [
    {
     "name": "stdout",
     "output_type": "stream",
     "text": [
      "hawk\n"
     ]
    }
   ],
   "source": [
    "# slicing with string\n",
    "\n",
    "word = 'warhawks'\n",
    "print(word[3:-1])"
   ]
  },
  {
   "cell_type": "code",
   "execution_count": 21,
   "id": "375a6d64",
   "metadata": {},
   "outputs": [
    {
     "name": "stdout",
     "output_type": "stream",
     "text": [
      "['Alex']\n"
     ]
    }
   ],
   "source": [
    "22222"
   ]
  },
  {
   "cell_type": "code",
   "execution_count": 22,
   "id": "3ce7c50e",
   "metadata": {},
   "outputs": [
    {
     "data": {
      "text/plain": [
       "3"
      ]
     },
     "execution_count": 22,
     "metadata": {},
     "output_type": "execute_result"
    }
   ],
   "source": [
    "# count method\n",
    "\n",
    "numbers = [4,5,6,1,6,7,0,7,6]\n",
    "numbers.count(6)"
   ]
  },
  {
   "cell_type": "code",
   "execution_count": 24,
   "id": "dd7c8ceb",
   "metadata": {},
   "outputs": [
    {
     "name": "stdout",
     "output_type": "stream",
     "text": [
      "[6, 7, 0, 7, 6, 1, 6, 5, 4]\n"
     ]
    }
   ],
   "source": [
    "# reverse method\n",
    "\n",
    "numbers = [4,5,6,1,6,7,0,7,6]\n",
    "numbers.reverse()\n",
    "\n",
    "print(numbers)"
   ]
  },
  {
   "cell_type": "code",
   "execution_count": 25,
   "id": "5057011c",
   "metadata": {},
   "outputs": [
    {
     "name": "stdout",
     "output_type": "stream",
     "text": [
      "[0, 1, 4, 5, 6, 6, 6, 7, 7]\n"
     ]
    }
   ],
   "source": [
    "# sort method\n",
    "\n",
    "numbers.sort()\n",
    "\n",
    "print(numbers)"
   ]
  },
  {
   "cell_type": "code",
   "execution_count": 26,
   "id": "e2518f76",
   "metadata": {},
   "outputs": [
    {
     "name": "stdout",
     "output_type": "stream",
     "text": [
      "[' Hunter', 'Alex', 'Nicole']\n"
     ]
    }
   ],
   "source": [
    "# sort method with strings\n",
    "    \n",
    "friends.sort()\n",
    "print(friends)"
   ]
  },
  {
   "cell_type": "code",
   "execution_count": 31,
   "id": "7cb8b672",
   "metadata": {},
   "outputs": [
    {
     "name": "stdout",
     "output_type": "stream",
     "text": [
      "['Hello', 'World']\n"
     ]
    }
   ],
   "source": [
    "# turning a string into a list\n",
    "\n",
    "str1 = 'Hello World'\n",
    "words = str1.split()\n",
    "print(words)"
   ]
  },
  {
   "cell_type": "code",
   "execution_count": 30,
   "id": "be0601dd",
   "metadata": {},
   "outputs": [
    {
     "ename": "SyntaxError",
     "evalue": "invalid syntax (3219377996.py, line 4)",
     "output_type": "error",
     "traceback": [
      "\u001b[0;36m  Input \u001b[0;32mIn [30]\u001b[0;36m\u001b[0m\n\u001b[0;31m    first_name = elemenrt=\u001b[0m\n\u001b[0m                          ^\u001b[0m\n\u001b[0;31mSyntaxError\u001b[0m\u001b[0;31m:\u001b[0m invalid syntax\n"
     ]
    }
   ],
   "source": [
    "str3 = 'Alex/Smith/1999'\n",
    "elements = str3.split('/')\n",
    "\n",
    "first_name = elements[0]\n",
    "last_nm=ame = elements[1]\n",
    "birthday = elements[2]"
   ]
  },
  {
   "cell_type": "code",
   "execution_count": null,
   "id": "4e15094b",
   "metadata": {},
   "outputs": [],
   "source": []
  }
 ],
 "metadata": {
  "kernelspec": {
   "display_name": "Python 3 (ipykernel)",
   "language": "python",
   "name": "python3"
  },
  "language_info": {
   "codemirror_mode": {
    "name": "ipython",
    "version": 3
   },
   "file_extension": ".py",
   "mimetype": "text/x-python",
   "name": "python",
   "nbconvert_exporter": "python",
   "pygments_lexer": "ipython3",
   "version": "3.9.12"
  }
 },
 "nbformat": 4,
 "nbformat_minor": 5
}
