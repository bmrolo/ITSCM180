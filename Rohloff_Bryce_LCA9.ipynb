{
 "cells": [
  {
   "cell_type": "markdown",
   "metadata": {},
   "source": [
    "## Exercise 1.1\n",
    "\n",
    "Make a Python class called **Car**. The __init()__ method for Car should store three attributes: make, model, and year. Also, set odometer at 0 for every new car instance constructed.\n",
    "<br>For the Car class, write a method called **trip** that gets distance of each trip driven by a car object and updates the car odometer."
   ]
  },
  {
   "cell_type": "code",
   "execution_count": null,
   "metadata": {},
   "outputs": [],
   "source": [
    "class Car:\n",
    "    odometer = 0\n",
    "    \n",
    "    def __init__(self,mk,mo,yr):\n",
    "        self.make = mk\n",
    "        self.model = mo\n",
    "        self.year = yr\n",
    "        print('A new car is constructed:', self.make, self.model, self.year)\n",
    "    \n",
    "    def trip(self,dist):\n",
    "        self.odometer += dist\n",
    "        print('Current car mileage:',self.odometer,'miles')"
   ]
  },
  {
   "cell_type": "markdown",
   "metadata": {},
   "source": [
    "## Exercise 1.2\n",
    "\n",
    "Now create a new instance called my car, with the following attributes: Nissan, Rogue, 2017.\n",
    "Add two trips of 22 and 16 miles to its odometer using the trip() method."
   ]
  },
  {
   "cell_type": "code",
   "execution_count": null,
   "metadata": {
    "scrolled": false
   },
   "outputs": [],
   "source": [
    "mycar = Car('Nissan','Rogue', 2017)"
   ]
  },
  {
   "cell_type": "code",
   "execution_count": null,
   "metadata": {
    "scrolled": true
   },
   "outputs": [],
   "source": [
    "mycar.trip(22)"
   ]
  },
  {
   "cell_type": "code",
   "execution_count": null,
   "metadata": {
    "scrolled": true
   },
   "outputs": [],
   "source": [
    "mycar.trip(16)"
   ]
  },
  {
   "cell_type": "code",
   "execution_count": null,
   "metadata": {},
   "outputs": [],
   "source": [
    "yourcar = Car('Toyota', 'Camry', 2020)"
   ]
  },
  {
   "cell_type": "code",
   "execution_count": null,
   "metadata": {},
   "outputs": [],
   "source": [
    "yourcar.trip(14)"
   ]
  },
  {
   "cell_type": "code",
   "execution_count": null,
   "metadata": {},
   "outputs": [],
   "source": [
    "mycar.odometer"
   ]
  },
  {
   "cell_type": "markdown",
   "metadata": {},
   "source": [
    "## Exercise 2.1\n",
    "\n",
    "Make a new class called **Electric_Car** which posses all the methods and attributes of the **Car** class. In addition set a new attribute called charge_count that starts from 0 for any newly constructed electric car. \n",
    "<br>Write a new method called charge() that each time we call it for a given electric car, updates the charge_count by adding 1 unit."
   ]
  },
  {
   "cell_type": "code",
   "execution_count": null,
   "metadata": {},
   "outputs": [],
   "source": [
    "class Electric_Car(Car):\n",
    "    charge_count = 0 \n",
    "    \n",
    "    def charge(self):\n",
    "        self.charge_count += 1\n",
    "        print('Total number of charge so far:', self.charge_count)\n"
   ]
  },
  {
   "cell_type": "markdown",
   "metadata": {},
   "source": [
    "## Exercise 2.2\n",
    "\n",
    "Now construct a new electric car instance with following attributes: Make: Tesla; Model: s; Year: 2018.\n",
    "<br> Call the trip() method to update odometer with a trip of 200 miles. Also call the charge() method to update the charge count twice. "
   ]
  },
  {
   "cell_type": "code",
   "execution_count": null,
   "metadata": {},
   "outputs": [],
   "source": [
    "myEV = Electric_Car('Tesla','S', 2018)"
   ]
  },
  {
   "cell_type": "code",
   "execution_count": null,
   "metadata": {},
   "outputs": [],
   "source": [
    "myEV.charge()"
   ]
  },
  {
   "cell_type": "code",
   "execution_count": null,
   "metadata": {},
   "outputs": [],
   "source": [
    "myEV.trip(56)"
   ]
  },
  {
   "cell_type": "code",
   "execution_count": null,
   "metadata": {},
   "outputs": [],
   "source": [
    "myEV.odometer"
   ]
  },
  {
   "cell_type": "markdown",
   "metadata": {},
   "source": [
    "## Assignment 1\n",
    "\n",
    "Make a class called **Restaurant**. The __init__() method for Restaurant should store two attributes: a **restaurant_name** and a **cuisine_type**. Make an attribute called meals_served in the class which starts at 0 for each new restaurant instance. Make a method called order() that gets the number of meals(order size) in a given order and updates the meals_served attribute, then prints the current total number of meals served so far.\n",
    "\n",
    "Then create two new instances(objects) with the following attributes: (Chipotle,Mexican) for restaurant1 and (Taj Mahal,Indian) for restaurant2; and call the order() method once for each instance with order sizes of 4 and 3 meals, respectively.\n",
    "\n",
    "Expected Output:\n",
    "<br>A new restaurant is created called Chipotle which serves Mexican food\n",
    "<br>A new restaurant is created called Taj Mahal which serves Indian food\n",
    "<br>Total meals served so far in Chipotle is: 4\n",
    "<br>Total meals served so far in Taj Mahal is: 3"
   ]
  },
  {
   "cell_type": "code",
   "execution_count": null,
   "metadata": {},
   "outputs": [],
   "source": [
    "class Restaurant:\n",
    "    meals_served = 0 \n",
    "    \n",
    "    def __init__(self,rn,ct):\n",
    "        self.restaurant_name = rn\n",
    "        self.cuisine_type = ct\n",
    "        \n",
    "    def order(self,nom):\n",
    "        self.meals_served += nom\n",
    "        print('Total number of meals served so far in', self.restaurant_name, 'is', self.meals_served)"
   ]
  },
  {
   "cell_type": "code",
   "execution_count": null,
   "metadata": {
    "scrolled": true
   },
   "outputs": [],
   "source": [
    "restaurant1 = Restaurant('Chipotle','Mexican')"
   ]
  },
  {
   "cell_type": "code",
   "execution_count": null,
   "metadata": {},
   "outputs": [],
   "source": [
    "restaurant2 = Restaurant('Taj Mahal','Indian')"
   ]
  },
  {
   "cell_type": "code",
   "execution_count": null,
   "metadata": {},
   "outputs": [],
   "source": [
    "restaurant1.order(4)"
   ]
  },
  {
   "cell_type": "code",
   "execution_count": null,
   "metadata": {
    "scrolled": true
   },
   "outputs": [],
   "source": [
    "restaurant2.order(3)"
   ]
  },
  {
   "cell_type": "markdown",
   "metadata": {},
   "source": [
    "## Assignment 2\n",
    "\n",
    "Make a new class called **Buffet** which posses all the methods and attributes of the **Restaurant** class. In addition, define a new attribute called people_served that sets at 0 for each newly constructed object. Also, make a method called ppl() that gets the number of people served on each table and updates the people_served attribute accordingly. Then prints the total number of people served so far.\n",
    "\n",
    "Construct a new buffet object with *Milano* as name and *Italian* as cuisine type, then call the *order()* method with an order size of 10 meals as well as the *ppl()* method with a table size of 6 people."
   ]
  },
  {
   "cell_type": "code",
   "execution_count": null,
   "metadata": {},
   "outputs": [],
   "source": [
    "class Buffet(Restaurant):\n",
    "    people_served = 0\n",
    "    \n",
    "    def ppl(self,nop):\n",
    "        self.number_of_people = nop\n",
    "        self.people_served += nop\n",
    "        print('Total number of people served so far at', self.restaurant_name, 'is', self.people_served)"
   ]
  },
  {
   "cell_type": "code",
   "execution_count": null,
   "metadata": {
    "scrolled": true
   },
   "outputs": [],
   "source": [
    "restaurant3 = Buffet('Milano','Italian')"
   ]
  },
  {
   "cell_type": "code",
   "execution_count": null,
   "metadata": {},
   "outputs": [],
   "source": [
    "restaurant3.order(10)"
   ]
  },
  {
   "cell_type": "code",
   "execution_count": null,
   "metadata": {
    "scrolled": true
   },
   "outputs": [],
   "source": [
    "restaurant3.ppl(6)"
   ]
  }
 ],
 "metadata": {
  "kernelspec": {
   "display_name": "Python 3 (ipykernel)",
   "language": "python",
   "name": "python3"
  },
  "language_info": {
   "codemirror_mode": {
    "name": "ipython",
    "version": 3
   },
   "file_extension": ".py",
   "mimetype": "text/x-python",
   "name": "python",
   "nbconvert_exporter": "python",
   "pygments_lexer": "ipython3",
   "version": "3.9.12"
  }
 },
 "nbformat": 4,
 "nbformat_minor": 4
}
